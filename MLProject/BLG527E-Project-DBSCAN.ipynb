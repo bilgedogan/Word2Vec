{
 "cells": [
  {
   "cell_type": "markdown",
   "metadata": {
    "id": "Odu7E47WF8Bz"
   },
   "source": [
    "# BLG 527E - Machine Learning\n",
    "## Term Project"
   ]
  },
  {
   "cell_type": "code",
   "execution_count": 1,
   "metadata": {
    "executionInfo": {
     "elapsed": 601,
     "status": "ok",
     "timestamp": 1666936638381,
     "user": {
      "displayName": "kıymet kaya",
      "userId": "14067656308915233367"
     },
     "user_tz": -180
    },
    "id": "7RjQo5M5F8B5"
   },
   "outputs": [],
   "source": [
    "#import neccessary libraries\n",
    "import warnings\n",
    "import os\n",
    "warnings.filterwarnings('ignore')\n",
    "\n",
    "#libraries for data analysis\n",
    "import pandas as pd\n",
    "import numpy as np\n",
    "import math\n",
    "from scipy import stats\n",
    "from scipy.stats import norm\n",
    "\n",
    "#libraries for data visualization\n",
    "import matplotlib.pyplot as plt\n",
    "import seaborn as sns\n",
    "%matplotlib inline\n",
    "\n",
    "#show all row and column values\n",
    "pd.set_option('display.max_rows', None)\n",
    "pd.set_option('display.max_columns', None)"
   ]
  },
  {
   "cell_type": "markdown",
   "metadata": {
    "id": "nqX0KHi0F8B7"
   },
   "source": [
    "## Data Description\n",
    "### Citation Knowledge with Position Dataset\n",
    "\n",
    "This dataset contains information from scientific publications written by authors who have published papers in the RecSys conference. It contains four files which have information extracted from scientific publications. The details of each file are explained below:\n",
    "\n",
    "i) all_authors.tsv: This file contains the details of authors who published research papers in the RecSys conference. The details include authors' identifier in various forms, such as number, orcid id, dblp url, dblp key and google scholar url, authors' first name, last name and their affiliation (where they work)\n",
    "\n",
    "ii) all_publications.tsv: This file contains the details of publications authored by the authors mentioned in the all_authors.tsv file (Please note the list of publications does not contain all the authored publications of the authors, refer to the publication for further details).\n",
    "\n",
    "The details include publications' identifier in different forms (such as number, dblp key, dblp url, dblp key, google scholar url), title, filtered title, published date, published conference and paper abstract.\n",
    "\n",
    "iii) selected_author_publications_information.tsv: This file consists of identifiers of authors and their publications. Here, we provide the information of selected authors and their publications used for our experiment.\n",
    "\n",
    "iv) selected_publication_citations_information.tsv: This file contains the information of the selected publications which consists of both citing and cited papers’ information used in our experiment. It consists of identifier of citing paper, identifier of cited paper, citation title, citation filtered title, the sentence before the citation is mentioned, citing sentence, the sentence after the citation is mentioned, citation position (section).\n",
    "\n",
    "Please note, it does not contain information of all the citations cited in the publications. For more detail, please refer to the paper.\n",
    "\n",
    "This dataset is for the use of research purposes only and if you use this dataset, please cite our paper \"Capturing and exploiting citation knowledge for recommending recently published papers\".\n",
    "\n",
    "https://ieeexplore.ieee.org/abstract/document/9338486"
   ]
  },
  {
   "cell_type": "code",
   "execution_count": 2,
   "metadata": {
    "executionInfo": {
     "elapsed": 985,
     "status": "ok",
     "timestamp": 1666936642095,
     "user": {
      "displayName": "kıymet kaya",
      "userId": "14067656308915233367"
     },
     "user_tz": -180
    },
    "id": "tYl1ebcOF8B8",
    "scrolled": true
   },
   "outputs": [],
   "source": [
    "#read data from .tsv files\n",
    "df_all_authors = pd.read_csv(\"all_authors.tsv\", sep='\\t', encoding= 'ISO-8859-1')\n",
    "df_all_publications = pd.read_csv(\"all_publications.tsv\", sep='\\t')\n",
    "df_selected_author_publications = pd.read_csv(\"selected_author_publications_information.tsv\", sep='\\t')\n",
    "df_selected_publication_citations = pd.read_csv(\"selected_publication_citations_information.tsv\", sep='\\t')"
   ]
  },
  {
   "cell_type": "markdown",
   "metadata": {
    "id": "Q715rx5ZM8zN"
   },
   "source": [
    "## Clustering of Papers by subject\n",
    "\n",
    "In this section, you are expected to find a clustering model that will place papers on similar topics in the same cluster using the contents of the papers.You may use the paper abstracts in the dataset for this. You can also obtain additional information about any paper from the shared url's. How you create the dataset is up to you. Note that you need to select features that will aid clustering by topics.\n",
    "\n",
    "An example clustering study with SBERT: https://www.sbert.net/examples/applications/clustering/README.html\n",
    "\n",
    "\n",
    "Things to do:\n",
    "\n",
    "* Create the dataset to be used in clustering by making use of the shared datasets in this folder.\n",
    "\n",
    "* Split the dataset as training data & test data (general approach is to separate it as 70% - 30%). **In all clustering methods same training - test datasets must be used.**\n",
    "\n",
    "* 4 clustering methods are given in the following cells. You need to make the necessary coding right after the cell reserved for the method. You need to train the prediction model on the training data and share the prediction results you obtained on the test data with the visualizations.\n",
    " \n",
    "  Clustering Methods: https://scikit-learn.org/stable/modules/clustering.html\n",
    "\n",
    "\n",
    "* For each clustering method, you are expected to compare the performance of 3 different text-to-vec pre-trained models. For this, you must choose 2 of the clustering performance evaluation metrics.\n",
    "\n",
    "  Pre-trained text-to-vec models: [https://www.sbert.net/docs/pretrained_models.html](https://www.sbert.net/docs/pretrained_models.html)\n",
    "\n",
    "  Clustering Performance Evaluation Metrics: [https://scikit-learn.org/stable/modules/clustering.html#clustering-performance-evaluation](https://scikit-learn.org/stable/modules/clustering.html#clustering-performance-evaluation)\n",
    "\n",
    "* To optimize the each clustering method, try at least 3 different values for a hyperparameter of this method.\n"
   ]
  },
  {
   "cell_type": "markdown",
   "metadata": {
    "id": "p888IaddGF6M"
   },
   "source": [
    "# Dataset Creation\n",
    "\n",
    "\n",
    "**Hint:** \n",
    "\n",
    "*   With 3 different pre-trained text-to-vec models, 3 different datasets are created.\n",
    "\n",
    "* Do not repeatedly create these three datasets under each clustering model. Do this at once and save it to a file. In the code cell allocated for each clustering model, first read the data you saved from the file, then complete the other necessary operations.\n",
    "\n",
    "* Consider also the runtime of pre-trained text-to-vec models and Google Colab resource constraints. With the file you created, it may not be possible to get results from the pre-trained model at once. In this case, divide the dataset into subsets, present them as separate inputs to the pre-trained text-to-vec model and combine the results.\n",
    "\n",
    "* You may complete the data creation phase with pre-trained text-to-vec models on your own computer or on a different additional hardware source. However, you need to share the created datasets via Google Drive and write the code you have executed in the relevant cell below.\n"
   ]
  },
  {
   "cell_type": "code",
   "execution_count": 3,
   "metadata": {},
   "outputs": [],
   "source": [
    "import pickle\n",
    "with open(\"my-embeddings-content.pkl\", \"rb\") as fIn:\n",
    "    cache_data = pickle.load(fIn)\n",
    "    corpus_sentences = cache_data['sentences']\n",
    "    corpus_embeddings = cache_data['embeddings']\n",
    "\n",
    "with open(\"my-embeddings-all-MiniLM-L12-v2.pkl\", \"rb\") as fIn:\n",
    "    cache_data = pickle.load(fIn)\n",
    "    corpus_embeddings_miniLM_L12 = cache_data['embeddings']\n",
    "\n",
    "with open(\"my-embeddings-universal.pkl\", \"rb\") as fIn:\n",
    "    cache_data = pickle.load(fIn)\n",
    "    corpus_embeddings_universal = cache_data['embeddings']"
   ]
  },
  {
   "cell_type": "markdown",
   "metadata": {},
   "source": [
    "https://stackoverflow.com/questions/68334844/how-to-save-sentence-bert-output-vectors-to-a-file"
   ]
  },
  {
   "cell_type": "markdown",
   "metadata": {
    "id": "IgeudAgyJUh9"
   },
   "source": [
    "##Clustering\n",
    "### K-means\n",
    " \n",
    " Compare 3 different pre-trained text-to-vec models.\n",
    "\n",
    " Use 2 performance evaluation metrics and virtualize the results.\n",
    "\n",
    " To optimize the method, try at least 3 different values for a hyperparameter of this method."
   ]
  },
  {
   "cell_type": "code",
   "execution_count": null,
   "metadata": {
    "executionInfo": {
     "elapsed": 10,
     "status": "ok",
     "timestamp": 1666936670177,
     "user": {
      "displayName": "kıymet kaya",
      "userId": "14067656308915233367"
     },
     "user_tz": -180
    },
    "id": "rdGNqiC_KM5I"
   },
   "outputs": [],
   "source": [
    "#Code Below"
   ]
  },
  {
   "cell_type": "markdown",
   "metadata": {
    "id": "ZyVTkWZ8JUyX"
   },
   "source": [
    "### Spectral Clustering\n",
    " \n",
    " Compare 3 different pre-trained text-to-vec models.\n",
    "\n",
    " Use 2 performance evaluation metrics and virtualize the results.\n",
    "\n",
    " To optimize the method, try at least 3 different values for a hyperparameter of this method."
   ]
  },
  {
   "cell_type": "code",
   "execution_count": null,
   "metadata": {
    "executionInfo": {
     "elapsed": 11,
     "status": "ok",
     "timestamp": 1666936670178,
     "user": {
      "displayName": "kıymet kaya",
      "userId": "14067656308915233367"
     },
     "user_tz": -180
    },
    "id": "9VgTyF-_KNSx"
   },
   "outputs": [],
   "source": [
    "#Code Below\n",
    "#You can add as many code cells as you want."
   ]
  },
  {
   "cell_type": "markdown",
   "metadata": {
    "id": "AGEJjsUhJ0T6"
   },
   "source": [
    "### DBSCAN\n",
    " \n",
    " Compare 3 different pre-trained text-to-vec models.\n",
    "\n",
    " Use 2 performance evaluation metrics and virtualize the results.\n",
    "\n",
    " To optimize the method, try at least 3 different values for a hyperparameter of this method."
   ]
  },
  {
   "cell_type": "code",
   "execution_count": 4,
   "metadata": {
    "executionInfo": {
     "elapsed": 11,
     "status": "ok",
     "timestamp": 1666936670178,
     "user": {
      "displayName": "kıymet kaya",
      "userId": "14067656308915233367"
     },
     "user_tz": -180
    },
    "id": "xAfb9zckKNrY"
   },
   "outputs": [],
   "source": [
    "#Code Below\n",
    "from sklearn.decomposition import PCA\n",
    "from sklearn.metrics import silhouette_score\n",
    "from sklearn.metrics import davies_bouldin_score\n",
    "from sklearn.metrics import calinski_harabasz_score"
   ]
  },
  {
   "cell_type": "code",
   "execution_count": 5,
   "metadata": {},
   "outputs": [],
   "source": [
    "#with pca\n",
    "pca = PCA(n_components=2)\n",
    "corpus_embeddings_universal_pca = pca.fit_transform(corpus_embeddings_universal)\n",
    "corpus_embeddings_miniLM_L6_pca = pca.fit_transform(corpus_embeddings)\n",
    "corpus_embeddings_miniLM_L12_pca = pca.fit_transform(corpus_embeddings_miniLM_L12)"
   ]
  },
  {
   "cell_type": "code",
   "execution_count": 6,
   "metadata": {},
   "outputs": [],
   "source": [
    "def plotMetrics(calinski_harabasz_scr,silhouette_scr,davies_bouldin_scr, k_min, k_max):\n",
    "    plt.figure(figsize=(15, 5))\n",
    "    plt.plot(range(k_min, k_max), calinski_harabasz_scr)\n",
    "    plt.xlabel(\"# of Clusters\") \n",
    "    plt.ylabel(\"Calinski Harabasz score\") \n",
    "    plt.title(\"Calinski Harabasz score analysis For Optimal k\")\n",
    "    plt.show()\n",
    "    \n",
    "    plt.figure(figsize=(15, 5))\n",
    "    plt.plot(range(k_min, k_max),silhouette_scr)\n",
    "    plt.xlabel(\"# of Clusters\") \n",
    "    plt.ylabel(\"Silhouette score\") \n",
    "    plt.title(\"Silhouette analysis For Optimal k\")\n",
    "    plt.show()\n",
    "\n",
    "    plt.figure(figsize=(15, 5))\n",
    "    plt.plot(range(k_min, k_max),davies_bouldin_scr)\n",
    "    plt.xlabel(\"# of Clusters\") \n",
    "    plt.ylabel(\"Davies Bouldin score\") \n",
    "    plt.title(\"Davies Bouldin analysis For Optimal k\")\n",
    "    plt.show()"
   ]
  },
  {
   "cell_type": "code",
   "execution_count": 10,
   "metadata": {},
   "outputs": [],
   "source": [
    "from sklearn.neighbors import NearestNeighbors\n",
    "\n",
    "def find_epsilon(data):\n",
    "    \n",
    "    # Compute the distance matrix\n",
    "    distances = NearestNeighbors(n_neighbors=50).fit(data).kneighbors()[0]\n",
    "\n",
    "    # Sort the distances\n",
    "    distances = np.sort(distances, axis=0)\n",
    "\n",
    "    # Compute the k-distance\n",
    "    k = 50\n",
    "    k_distances = distances[:, k-1]\n",
    "\n",
    "    # Sort the k-distances\n",
    "    k_distances_sorted = np.sort(k_distances, axis=0)\n",
    "\n",
    "    # Plot the k-distance\n",
    "    fig, ax = plt.subplots()\n",
    "    plt.figure(figsize=(9, 6))\n",
    "    ax.plot(k_distances_sorted)\n",
    "    ax.set_xlabel('Point index')\n",
    "    ax.set_ylabel(f'{k}-distance')\n",
    "    plt.show()"
   ]
  },
  {
   "cell_type": "code",
   "execution_count": 8,
   "metadata": {},
   "outputs": [],
   "source": [
    "from sklearn.cluster import DBSCAN\n",
    "def plotDBSCANMetrics(data,eps,minPts=50):\n",
    "    dbscan_clustering = DBSCAN(eps=eps,min_samples=minPts).fit(data)\n",
    "    cluster_labels = dbscan_clustering.labels_\n",
    "    \n",
    "    print(\"Silhoutte score(minPts={} ,eps={}): {}\".format(minPts,eps,silhouette_score(data, cluster_labels)))\n",
    "    print(\"Davies Bouldin score(minPts={} ,eps={}): {}\".format(minPts,eps,davies_bouldin_score(data, cluster_labels)))\n",
    "    print(\"Calinski Harabasz score(minPts={} ,eps={}): {}\".format(minPts,eps,calinski_harabasz_score(data,cluster_labels)))\n",
    "    print(\"-----------------------------------------------------------------------\")"
   ]
  },
  {
   "cell_type": "code",
   "execution_count": 9,
   "metadata": {},
   "outputs": [
    {
     "data": {
      "image/png": "[encoded data removed]",
      "text/plain": [
       "<Figure size 432x288 with 1 Axes>"
      ]
     },
     "metadata": {
      "needs_background": "light"
     },
     "output_type": "display_data"
    },
    {
     "data": {
      "image/png": "[encoded data removed]",
      "text/plain": [
       "<Figure size 432x288 with 1 Axes>"
      ]
     },
     "metadata": {
      "needs_background": "light"
     },
     "output_type": "display_data"
    },
    {
     "data": {
      "image/png": "[encoded data removed]",
      "text/plain": [
       "<Figure size 432x288 with 1 Axes>"
      ]
     },
     "metadata": {
      "needs_background": "light"
     },
     "output_type": "display_data"
    }
   ],
   "source": [
    "find_epsilon(corpus_embeddings_miniLM_L6_pca)\n",
    "find_epsilon(corpus_embeddings_miniLM_L12_pca)\n",
    "find_epsilon(corpus_embeddings_universal_pca)\n"
   ]
  },
  {
   "cell_type": "code",
   "execution_count": null,
   "metadata": {},
   "outputs": [],
   "source": []
  },
  {
   "cell_type": "code",
   "execution_count": null,
   "metadata": {},
   "outputs": [],
   "source": []
  },
  {
   "cell_type": "markdown",
   "metadata": {
    "id": "IzkwEsTNJ0WQ"
   },
   "source": [
    "### Gaussian Mixture\n",
    " \n",
    " Compare 3 different pre-trained text-to-vec models.\n",
    "\n",
    " Use 2 performance evaluation metrics and virtualize the results.\n",
    "\n",
    " To optimize the method, try at least 3 different values for a hyperparameter of this method."
   ]
  },
  {
   "cell_type": "code",
   "execution_count": null,
   "metadata": {
    "executionInfo": {
     "elapsed": 10,
     "status": "ok",
     "timestamp": 1666936670178,
     "user": {
      "displayName": "kıymet kaya",
      "userId": "14067656308915233367"
     },
     "user_tz": -180
    },
    "id": "hfZ4XF-5KOLy"
   },
   "outputs": [],
   "source": [
    "#Code Below\n",
    "#You can add as many code cells as you want."
   ]
  },
  {
   "cell_type": "markdown",
   "metadata": {
    "id": "q059OoxBJ0Yh"
   },
   "source": [
    "### The most accurate clustering model you recommend\n",
    "\n",
    "Present the operations for the selected clustering method and the text-to-vec pre-trained models pair again below."
   ]
  },
  {
   "cell_type": "code",
   "execution_count": null,
   "metadata": {
    "executionInfo": {
     "elapsed": 11,
     "status": "ok",
     "timestamp": 1666936670179,
     "user": {
      "displayName": "kıymet kaya",
      "userId": "14067656308915233367"
     },
     "user_tz": -180
    },
    "id": "qiXzeXnKK1Ez"
   },
   "outputs": [],
   "source": [
    "#Code Below\n",
    "#You can add as many code cells as you want."
   ]
  },
  {
   "cell_type": "markdown",
   "metadata": {
    "id": "IjOKG7whqbB_"
   },
   "source": [
    "## Clustering Analysis\n",
    "\n",
    "**Only for the most accurate clustering model you recommend**,\n",
    "\n",
    "1.   How many clusters did the model you propose create?\n",
    "2.   What is the number of papers in each cluster?\n",
    "3.   What is the unique number of authors in each cluster?\n",
    "4.   What are the top 3 most frequently used words (the words that describe the cluster) in each cluster?\n",
    "        \n",
    "        Ex: https://www.sbert.net/examples/applications/clustering/README.html\n"
   ]
  },
  {
   "cell_type": "code",
   "execution_count": null,
   "metadata": {
    "executionInfo": {
     "elapsed": 11,
     "status": "ok",
     "timestamp": 1666936670179,
     "user": {
      "displayName": "kıymet kaya",
      "userId": "14067656308915233367"
     },
     "user_tz": -180
    },
    "id": "kN3zSOsTqaRS"
   },
   "outputs": [],
   "source": [
    "#Code Below\n",
    "#You can add as many code cells as you want."
   ]
  },
  {
   "cell_type": "markdown",
   "metadata": {
    "id": "kKtd2fHdLFYv"
   },
   "source": [
    "## Clustering of Authors\n",
    "\n",
    "Observe the method you recommended in a different area. Cluster authors by research area.\n",
    "How you create the dataset is up to you. Note that you need to select features that will aid clustering by research area."
   ]
  },
  {
   "cell_type": "code",
   "execution_count": null,
   "metadata": {
    "executionInfo": {
     "elapsed": 744,
     "status": "ok",
     "timestamp": 1666936684700,
     "user": {
      "displayName": "kıymet kaya",
      "userId": "14067656308915233367"
     },
     "user_tz": -180
    },
    "id": "MfTr5gV6gza3"
   },
   "outputs": [],
   "source": [
    "#Code Below\n",
    "#You can add as many code cells as you want."
   ]
  },
  {
   "cell_type": "markdown",
   "metadata": {
    "id": "i0URHjQlg81d"
   },
   "source": [
    "#Students who want to get extra points can also do additional work on the following research areas. This part is not mandatory."
   ]
  },
  {
   "cell_type": "markdown",
   "metadata": {
    "id": "GYDrtkh3tHUd"
   },
   "source": [
    "## Semantic Search\n",
    " Selecting and presenting the papers closest to the entered text.\n",
    "\n",
    "\n",
    "*   https://www.sbert.net/examples/applications/semantic-search/README.html\n",
    "*   https://huggingface.co/course/chapter5/6?fw=pt\n",
    "\n",
    "\n",
    "\n"
   ]
  },
  {
   "cell_type": "code",
   "execution_count": null,
   "metadata": {
    "executionInfo": {
     "elapsed": 3,
     "status": "ok",
     "timestamp": 1666936687208,
     "user": {
      "displayName": "kıymet kaya",
      "userId": "14067656308915233367"
     },
     "user_tz": -180
    },
    "id": "c3zQxFUcjTc-"
   },
   "outputs": [],
   "source": [
    "#This part is not mandatory\n",
    "#Code Below\n",
    "#You can add as many code cells as you want."
   ]
  },
  {
   "cell_type": "markdown",
   "metadata": {
    "id": "zl6YRRRL2v7t"
   },
   "source": [
    "## Academic Ranking of Authors\n"
   ]
  },
  {
   "cell_type": "code",
   "execution_count": null,
   "metadata": {
    "executionInfo": {
     "elapsed": 6,
     "status": "ok",
     "timestamp": 1666936688277,
     "user": {
      "displayName": "kıymet kaya",
      "userId": "14067656308915233367"
     },
     "user_tz": -180
    },
    "id": "Qa7WtVr_hXqV"
   },
   "outputs": [],
   "source": [
    "#This part is not mandatory\n",
    "#Code Below\n",
    "#You can add as many code cells as you want."
   ]
  },
  {
   "cell_type": "code",
   "execution_count": null,
   "metadata": {
    "id": "9_VvSR2ZjUbc"
   },
   "outputs": [],
   "source": []
  }
 ],
 "metadata": {
  "accelerator": "GPU",
  "colab": {
   "collapsed_sections": [],
   "provenance": []
  },
  "kernelspec": {
   "display_name": "Python 3 (ipykernel)",
   "language": "python",
   "name": "python3"
  },
  "language_info": {
   "codemirror_mode": {
    "name": "ipython",
    "version": 3
   },
   "file_extension": ".py",
   "mimetype": "text/x-python",
   "name": "python",
   "nbconvert_exporter": "python",
   "pygments_lexer": "ipython3",
   "version": "3.9.10"
  },
  "vscode": {
   "interpreter": {
    "hash": "45d1d879aa73c821aced964e2958741074c3582c9fc2d70da8a21a2eb9bc8556"
   }
  }
 },
 "nbformat": 4,
 "nbformat_minor": 1
}
