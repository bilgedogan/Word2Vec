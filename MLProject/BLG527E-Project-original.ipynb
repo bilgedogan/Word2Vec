{
 "cells": [
  {
   "cell_type": "markdown",
   "metadata": {
    "id": "Odu7E47WF8Bz"
   },
   "source": [
    "# BLG 527E - Machine Learning\n",
    "## Term Project"
   ]
  },
  {
   "cell_type": "code",
   "execution_count": 1,
   "metadata": {
    "executionInfo": {
     "elapsed": 601,
     "status": "ok",
     "timestamp": 1666936638381,
     "user": {
      "displayName": "kıymet kaya",
      "userId": "14067656308915233367"
     },
     "user_tz": -180
    },
    "id": "7RjQo5M5F8B5"
   },
   "outputs": [],
   "source": [
    "#import neccessary libraries\n",
    "import warnings\n",
    "import os\n",
    "warnings.filterwarnings('ignore')\n",
    "\n",
    "#libraries for data analysis\n",
    "import pandas as pd\n",
    "import numpy as np\n",
    "import math\n",
    "from scipy import stats\n",
    "from scipy.stats import norm\n",
    "\n",
    "#libraries for data visualization\n",
    "import matplotlib.pyplot as plt\n",
    "import seaborn as sns\n",
    "%matplotlib inline\n",
    "\n",
    "#show all row and column values\n",
    "pd.set_option('display.max_rows', None)\n",
    "pd.set_option('display.max_columns', None)"
   ]
  },
  {
   "cell_type": "markdown",
   "metadata": {
    "id": "nqX0KHi0F8B7"
   },
   "source": [
    "## Data Description\n",
    "### Citation Knowledge with Position Dataset\n",
    "\n",
    "This dataset contains information from scientific publications written by authors who have published papers in the RecSys conference. It contains four files which have information extracted from scientific publications. The details of each file are explained below:\n",
    "\n",
    "i) all_authors.tsv: This file contains the details of authors who published research papers in the RecSys conference. The details include authors' identifier in various forms, such as number, orcid id, dblp url, dblp key and google scholar url, authors' first name, last name and their affiliation (where they work)\n",
    "\n",
    "ii) all_publications.tsv: This file contains the details of publications authored by the authors mentioned in the all_authors.tsv file (Please note the list of publications does not contain all the authored publications of the authors, refer to the publication for further details).\n",
    "\n",
    "The details include publications' identifier in different forms (such as number, dblp key, dblp url, dblp key, google scholar url), title, filtered title, published date, published conference and paper abstract.\n",
    "\n",
    "iii) selected_author_publications_information.tsv: This file consists of identifiers of authors and their publications. Here, we provide the information of selected authors and their publications used for our experiment.\n",
    "\n",
    "iv) selected_publication_citations_information.tsv: This file contains the information of the selected publications which consists of both citing and cited papers’ information used in our experiment. It consists of identifier of citing paper, identifier of cited paper, citation title, citation filtered title, the sentence before the citation is mentioned, citing sentence, the sentence after the citation is mentioned, citation position (section).\n",
    "\n",
    "Please note, it does not contain information of all the citations cited in the publications. For more detail, please refer to the paper.\n",
    "\n",
    "This dataset is for the use of research purposes only and if you use this dataset, please cite our paper \"Capturing and exploiting citation knowledge for recommending recently published papers\".\n",
    "\n",
    "https://ieeexplore.ieee.org/abstract/document/9338486"
   ]
  },
  {
   "cell_type": "code",
   "execution_count": 2,
   "metadata": {
    "colab": {
     "base_uri": "https://localhost:8080/"
    },
    "executionInfo": {
     "elapsed": 2734,
     "status": "ok",
     "timestamp": 1666936641112,
     "user": {
      "displayName": "kıymet kaya",
      "userId": "14067656308915233367"
     },
     "user_tz": -180
    },
    "id": "qdb2ShLEGDbX",
    "outputId": "ff5a9bd0-3370-45ab-851d-af44b738a35e"
   },
   "outputs": [
    {
     "name": "stdout",
     "output_type": "stream",
     "text": [
      "Drive already mounted at /content/drive/; to attempt to forcibly remount, call drive.mount(\"/content/drive/\", force_remount=True).\n"
     ]
    }
   ],
   "source": [
    "from google.colab import drive\n",
    "drive.mount('/content/drive/')"
   ]
  },
  {
   "cell_type": "code",
   "execution_count": 3,
   "metadata": {
    "colab": {
     "base_uri": "https://localhost:8080/"
    },
    "executionInfo": {
     "elapsed": 9,
     "status": "ok",
     "timestamp": 1666936641113,
     "user": {
      "displayName": "kıymet kaya",
      "userId": "14067656308915233367"
     },
     "user_tz": -180
    },
    "id": "9pAvq0i_GKht",
    "outputId": "5a1a953b-885d-4e2b-c221-c003cadab16d"
   },
   "outputs": [
    {
     "name": "stdout",
     "output_type": "stream",
     "text": [
      "all_authors.tsv\n",
      "all_publications.tsv\n",
      "BLG527E-Project.ipynb\n",
      "Directionally_Paired_Principal_Component_Analysis_for_Bivariate_Estimation_Problems.pdf\n",
      "Feature_Extraction_and_Selection_via_Robust_Discriminant_Analysis_and_Class_Sparsity.pdf\n",
      "Kernel_Discriminant_Correlation_Analysis_Feature_Level_Fusion_for_Nonlinear_Biometric_Recognition.pdf\n",
      "selected_author_publications_information.tsv\n",
      "selected_publication_citations_information.tsv\n"
     ]
    }
   ],
   "source": [
    "import os\n",
    "os.chdir(\"/content/drive/My Drive/ML Project\")\n",
    "!ls"
   ]
  },
  {
   "cell_type": "code",
   "execution_count": 4,
   "metadata": {
    "executionInfo": {
     "elapsed": 985,
     "status": "ok",
     "timestamp": 1666936642095,
     "user": {
      "displayName": "kıymet kaya",
      "userId": "14067656308915233367"
     },
     "user_tz": -180
    },
    "id": "tYl1ebcOF8B8",
    "scrolled": true
   },
   "outputs": [],
   "source": [
    "#read data from .tsv files\n",
    "df_all_authors = pd.read_csv(\"all_authors.tsv\", sep='\\t', encoding= 'ISO-8859-1')\n",
    "df_all_publications = pd.read_csv(\"all_publications.tsv\", sep='\\t')\n",
    "df_selected_author_publications = pd.read_csv(\"selected_author_publications_information.tsv\", sep='\\t')\n",
    "df_selected_publication_citations = pd.read_csv(\"selected_publication_citations_information.tsv\", sep='\\t')"
   ]
  },
  {
   "cell_type": "markdown",
   "metadata": {
    "id": "hOHz8SLdUXCO"
   },
   "source": [
    "\n",
    "### Data Exploration"
   ]
  },
  {
   "cell_type": "code",
   "execution_count": 5,
   "metadata": {
    "colab": {
     "base_uri": "https://localhost:8080/",
     "height": 331
    },
    "executionInfo": {
     "elapsed": 20,
     "status": "ok",
     "timestamp": 1666936642096,
     "user": {
      "displayName": "kıymet kaya",
      "userId": "14067656308915233367"
     },
     "user_tz": -180
    },
    "id": "0ggwtNxZF8B8",
    "outputId": "1a08083f-e5b7-41db-aaad-c22e71945e34"
   },
   "outputs": [
    {
     "name": "stdout",
     "output_type": "stream",
     "text": [
      "Index(['author_id', 'author_orchid_id', 'author_fname', 'author_lname',\n",
      "       'author_dblp_url', 'author_dblp_key', 'author_gscholar_url',\n",
      "       'author_affiliation', 'author_page'],\n",
      "      dtype='object')\n",
      "(1931, 9)\n"
     ]
    },
    {
     "data": {
      "text/html": [
       "\n",
       "  <div id=\"df-1cb33d23-8554-48c3-a818-e45d53d28486\">\n",
       "    <div class=\"colab-df-container\">\n",
       "      <div>\n",
       "<style scoped>\n",
       "    .dataframe tbody tr th:only-of-type {\n",
       "        vertical-align: middle;\n",
       "    }\n",
       "\n",
       "    .dataframe tbody tr th {\n",
       "        vertical-align: top;\n",
       "    }\n",
       "\n",
       "    .dataframe thead th {\n",
       "        text-align: right;\n",
       "    }\n",
       "</style>\n",
       "<table border=\"1\" class=\"dataframe\">\n",
       "  <thead>\n",
       "    <tr style=\"text-align: right;\">\n",
       "      <th></th>\n",
       "      <th>author_id</th>\n",
       "      <th>author_orchid_id</th>\n",
       "      <th>author_fname</th>\n",
       "      <th>author_lname</th>\n",
       "      <th>author_dblp_url</th>\n",
       "      <th>author_dblp_key</th>\n",
       "      <th>author_gscholar_url</th>\n",
       "      <th>author_affiliation</th>\n",
       "      <th>author_page</th>\n",
       "    </tr>\n",
       "  </thead>\n",
       "  <tbody>\n",
       "    <tr>\n",
       "      <th>0</th>\n",
       "      <td>1</td>\n",
       "      <td></td>\n",
       "      <td>Jinkai</td>\n",
       "      <td>Yu</td>\n",
       "      <td>https://dblp.org/pid/227/0764</td>\n",
       "      <td>homepages/227/0764</td>\n",
       "      <td>https://scholar.google.com/scholar?q=Jinkai+Yu</td>\n",
       "      <td>NaN</td>\n",
       "      <td></td>\n",
       "    </tr>\n",
       "    <tr>\n",
       "      <th>1</th>\n",
       "      <td>2</td>\n",
       "      <td>0000-0002-6866-9451</td>\n",
       "      <td>Pasquale</td>\n",
       "      <td>Lops</td>\n",
       "      <td>https://dblp.org/pers/hb/l/Lops:Pasquale.html</td>\n",
       "      <td>homepages/78/5518</td>\n",
       "      <td>https://scholar.google.com/scholar?q=Pasquale+...</td>\n",
       "      <td>University of Bari \"Aldo Moro\", Italy</td>\n",
       "      <td>http://www.di.uniba.it/~swap/index.php?n=Membr...</td>\n",
       "    </tr>\n",
       "    <tr>\n",
       "      <th>2</th>\n",
       "      <td>3</td>\n",
       "      <td></td>\n",
       "      <td>A.</td>\n",
       "      <td>Yagci</td>\n",
       "      <td>https://dblp.org/pid/16/7955</td>\n",
       "      <td>homepages/16/7955</td>\n",
       "      <td>https://scholar.google.com/scholar?q=A.+Murat+...</td>\n",
       "      <td>NaN</td>\n",
       "      <td></td>\n",
       "    </tr>\n",
       "  </tbody>\n",
       "</table>\n",
       "</div>\n",
       "      <button class=\"colab-df-convert\" onclick=\"convertToInteractive('df-1cb33d23-8554-48c3-a818-e45d53d28486')\"\n",
       "              title=\"Convert this dataframe to an interactive table.\"\n",
       "              style=\"display:none;\">\n",
       "        \n",
       "  <svg xmlns=\"http://www.w3.org/2000/svg\" height=\"24px\"viewBox=\"0 0 24 24\"\n",
       "       width=\"24px\">\n",
       "    <path d=\"M0 0h24v24H0V0z\" fill=\"none\"/>\n",
       "    <path d=\"M18.56 5.44l.94 2.06.94-2.06 2.06-.94-2.06-.94-.94-2.06-.94 2.06-2.06.94zm-11 1L8.5 8.5l.94-2.06 2.06-.94-2.06-.94L8.5 2.5l-.94 2.06-2.06.94zm10 10l.94 2.06.94-2.06 2.06-.94-2.06-.94-.94-2.06-.94 2.06-2.06.94z\"/><path d=\"M17.41 7.96l-1.37-1.37c-.4-.4-.92-.59-1.43-.59-.52 0-1.04.2-1.43.59L10.3 9.45l-7.72 7.72c-.78.78-.78 2.05 0 2.83L4 21.41c.39.39.9.59 1.41.59.51 0 1.02-.2 1.41-.59l7.78-7.78 2.81-2.81c.8-.78.8-2.07 0-2.86zM5.41 20L4 18.59l7.72-7.72 1.47 1.35L5.41 20z\"/>\n",
       "  </svg>\n",
       "      </button>\n",
       "      \n",
       "  <style>\n",
       "    .colab-df-container {\n",
       "      display:flex;\n",
       "      flex-wrap:wrap;\n",
       "      gap: 12px;\n",
       "    }\n",
       "\n",
       "    .colab-df-convert {\n",
       "      background-color: #E8F0FE;\n",
       "      border: none;\n",
       "      border-radius: 50%;\n",
       "      cursor: pointer;\n",
       "      display: none;\n",
       "      fill: #1967D2;\n",
       "      height: 32px;\n",
       "      padding: 0 0 0 0;\n",
       "      width: 32px;\n",
       "    }\n",
       "\n",
       "    .colab-df-convert:hover {\n",
       "      background-color: #E2EBFA;\n",
       "      box-shadow: 0px 1px 2px rgba(60, 64, 67, 0.3), 0px 1px 3px 1px rgba(60, 64, 67, 0.15);\n",
       "      fill: #174EA6;\n",
       "    }\n",
       "\n",
       "    [theme=dark] .colab-df-convert {\n",
       "      background-color: #3B4455;\n",
       "      fill: #D2E3FC;\n",
       "    }\n",
       "\n",
       "    [theme=dark] .colab-df-convert:hover {\n",
       "      background-color: #434B5C;\n",
       "      box-shadow: 0px 1px 3px 1px rgba(0, 0, 0, 0.15);\n",
       "      filter: drop-shadow(0px 1px 2px rgba(0, 0, 0, 0.3));\n",
       "      fill: #FFFFFF;\n",
       "    }\n",
       "  </style>\n",
       "\n",
       "      <script>\n",
       "        const buttonEl =\n",
       "          document.querySelector('#df-1cb33d23-8554-48c3-a818-e45d53d28486 button.colab-df-convert');\n",
       "        buttonEl.style.display =\n",
       "          google.colab.kernel.accessAllowed ? 'block' : 'none';\n",
       "\n",
       "        async function convertToInteractive(key) {\n",
       "          const element = document.querySelector('#df-1cb33d23-8554-48c3-a818-e45d53d28486');\n",
       "          const dataTable =\n",
       "            await google.colab.kernel.invokeFunction('convertToInteractive',\n",
       "                                                     [key], {});\n",
       "          if (!dataTable) return;\n",
       "\n",
       "          const docLinkHtml = 'Like what you see? Visit the ' +\n",
       "            '<a target=\"_blank\" href=https://colab.research.google.com/notebooks/data_table.ipynb>data table notebook</a>'\n",
       "            + ' to learn more about interactive tables.';\n",
       "          element.innerHTML = '';\n",
       "          dataTable['output_type'] = 'display_data';\n",
       "          await google.colab.output.renderOutput(dataTable, element);\n",
       "          const docLink = document.createElement('div');\n",
       "          docLink.innerHTML = docLinkHtml;\n",
       "          element.appendChild(docLink);\n",
       "        }\n",
       "      </script>\n",
       "    </div>\n",
       "  </div>\n",
       "  "
      ],
      "text/plain": [
       "   author_id     author_orchid_id author_fname author_lname  \\\n",
       "0          1                            Jinkai           Yu   \n",
       "1          2  0000-0002-6866-9451     Pasquale         Lops   \n",
       "2          3                                A.        Yagci   \n",
       "\n",
       "                                 author_dblp_url     author_dblp_key  \\\n",
       "0                  https://dblp.org/pid/227/0764  homepages/227/0764   \n",
       "1  https://dblp.org/pers/hb/l/Lops:Pasquale.html   homepages/78/5518   \n",
       "2                   https://dblp.org/pid/16/7955   homepages/16/7955   \n",
       "\n",
       "                                 author_gscholar_url  \\\n",
       "0     https://scholar.google.com/scholar?q=Jinkai+Yu   \n",
       "1  https://scholar.google.com/scholar?q=Pasquale+...   \n",
       "2  https://scholar.google.com/scholar?q=A.+Murat+...   \n",
       "\n",
       "                      author_affiliation  \\\n",
       "0                                    NaN   \n",
       "1  University of Bari \"Aldo Moro\", Italy   \n",
       "2                                    NaN   \n",
       "\n",
       "                                         author_page  \n",
       "0                                                     \n",
       "1  http://www.di.uniba.it/~swap/index.php?n=Membr...  \n",
       "2                                                     "
      ]
     },
     "execution_count": 5,
     "metadata": {},
     "output_type": "execute_result"
    }
   ],
   "source": [
    "#Author Data\n",
    "print(df_all_authors.columns)\n",
    "print(df_all_authors.shape)\n",
    "df_all_authors.head(3)"
   ]
  },
  {
   "cell_type": "code",
   "execution_count": 6,
   "metadata": {
    "colab": {
     "base_uri": "https://localhost:8080/"
    },
    "executionInfo": {
     "elapsed": 17,
     "status": "ok",
     "timestamp": 1666936642096,
     "user": {
      "displayName": "kıymet kaya",
      "userId": "14067656308915233367"
     },
     "user_tz": -180
    },
    "id": "9IpakramF8B9",
    "outputId": "75e3d4a2-d636-4092-ed0d-39374c57f6cc"
   },
   "outputs": [
    {
     "name": "stdout",
     "output_type": "stream",
     "text": [
      "<class 'pandas.core.frame.DataFrame'>\n",
      "RangeIndex: 1931 entries, 0 to 1930\n",
      "Data columns (total 9 columns):\n",
      " #   Column               Non-Null Count  Dtype \n",
      "---  ------               --------------  ----- \n",
      " 0   author_id            1931 non-null   int64 \n",
      " 1   author_orchid_id     1931 non-null   object\n",
      " 2   author_fname         1931 non-null   object\n",
      " 3   author_lname         1931 non-null   object\n",
      " 4   author_dblp_url      1931 non-null   object\n",
      " 5   author_dblp_key      1931 non-null   object\n",
      " 6   author_gscholar_url  1931 non-null   object\n",
      " 7   author_affiliation   379 non-null    object\n",
      " 8   author_page          1931 non-null   object\n",
      "dtypes: int64(1), object(8)\n",
      "memory usage: 135.9+ KB\n",
      "None\n"
     ]
    }
   ],
   "source": [
    "#Author Data\n",
    "print(df_all_authors.info())"
   ]
  },
  {
   "cell_type": "code",
   "execution_count": 7,
   "metadata": {
    "colab": {
     "base_uri": "https://localhost:8080/",
     "height": 656
    },
    "executionInfo": {
     "elapsed": 15,
     "status": "ok",
     "timestamp": 1666936642097,
     "user": {
      "displayName": "kıymet kaya",
      "userId": "14067656308915233367"
     },
     "user_tz": -180
    },
    "id": "6_NS6bm2F8B-",
    "outputId": "7343d8f1-8336-4db4-d31a-9b3dd7f4114a",
    "scrolled": false
   },
   "outputs": [
    {
     "name": "stdout",
     "output_type": "stream",
     "text": [
      "Index(['paper_id', 'paper_dblp_key', 'paper_title', 'paper_filtered_title',\n",
      "       'paper_published_date', 'paper_published_conference',\n",
      "       'paper_gscholar_url', 'paper_dblp_url', 'paper_abstract'],\n",
      "      dtype='object')\n",
      "(35473, 9)\n"
     ]
    },
    {
     "data": {
      "text/html": [
       "\n",
       "  <div id=\"df-c9f54dc6-8e3e-4bc5-8342-bbd7963a42e7\">\n",
       "    <div class=\"colab-df-container\">\n",
       "      <div>\n",
       "<style scoped>\n",
       "    .dataframe tbody tr th:only-of-type {\n",
       "        vertical-align: middle;\n",
       "    }\n",
       "\n",
       "    .dataframe tbody tr th {\n",
       "        vertical-align: top;\n",
       "    }\n",
       "\n",
       "    .dataframe thead th {\n",
       "        text-align: right;\n",
       "    }\n",
       "</style>\n",
       "<table border=\"1\" class=\"dataframe\">\n",
       "  <thead>\n",
       "    <tr style=\"text-align: right;\">\n",
       "      <th></th>\n",
       "      <th>paper_id</th>\n",
       "      <th>paper_dblp_key</th>\n",
       "      <th>paper_title</th>\n",
       "      <th>paper_filtered_title</th>\n",
       "      <th>paper_published_date</th>\n",
       "      <th>paper_published_conference</th>\n",
       "      <th>paper_gscholar_url</th>\n",
       "      <th>paper_dblp_url</th>\n",
       "      <th>paper_abstract</th>\n",
       "    </tr>\n",
       "  </thead>\n",
       "  <tbody>\n",
       "    <tr>\n",
       "      <th>0</th>\n",
       "      <td>1</td>\n",
       "      <td>conf/recsys/LiuTLYGHZ18</td>\n",
       "      <td>Field-aware probabilistic embedding neural net...</td>\n",
       "      <td>field aware probabilistic embedding neural net...</td>\n",
       "      <td>2018</td>\n",
       "      <td>RecSys</td>\n",
       "      <td>https://scholar.google.com/scholar?q=Field-awa...</td>\n",
       "      <td>https://dblp.org/rec/bibtex/conf/recsys/LiuTLY...</td>\n",
       "      <td>[For Click-Through Rate (CTR) prediction, Fiel...</td>\n",
       "    </tr>\n",
       "    <tr>\n",
       "      <th>1</th>\n",
       "      <td>2</td>\n",
       "      <td>journals/ijmms/MustoNLGS19</td>\n",
       "      <td>Linked open data-based explanations for transp...</td>\n",
       "      <td>linked open data based explanations for transp...</td>\n",
       "      <td>2019</td>\n",
       "      <td>Int. J. Hum.-Comput. Stud.</td>\n",
       "      <td>https://scholar.google.com/scholar?q=Linked+op...</td>\n",
       "      <td>https://dblp.org/rec/bibtex/journals/ijmms/Mus...</td>\n",
       "      <td>[In this article we propose a framework that g...</td>\n",
       "    </tr>\n",
       "    <tr>\n",
       "      <th>2</th>\n",
       "      <td>5</td>\n",
       "      <td>conf/iir/AnelliNSLT18</td>\n",
       "      <td>Moving from Item Rating to Features Relevance ...</td>\n",
       "      <td>moving from item rating to features relevance ...</td>\n",
       "      <td>2018</td>\n",
       "      <td>IIR</td>\n",
       "      <td>https://scholar.google.com/scholar?q=Moving+fr...</td>\n",
       "      <td>https://dblp.org/rec/bibtex/conf/iir/AnelliNSLT18</td>\n",
       "      <td>[Although very effective in computing accurate...</td>\n",
       "    </tr>\n",
       "    <tr>\n",
       "      <th>3</th>\n",
       "      <td>6</td>\n",
       "      <td>conf/recsys/NarducciBIGLS18</td>\n",
       "      <td>A Domain-independent Framework for building Co...</td>\n",
       "      <td>a domain independent framework for building co...</td>\n",
       "      <td>2018</td>\n",
       "      <td>KaRS@RecSys</td>\n",
       "      <td>https://scholar.google.com/scholar?q=A+Domain-...</td>\n",
       "      <td>https://dblp.org/rec/bibtex/conf/recsys/Narduc...</td>\n",
       "      <td>[Conversational Recommender Systems (CoRSs) im...</td>\n",
       "    </tr>\n",
       "    <tr>\n",
       "      <th>4</th>\n",
       "      <td>7</td>\n",
       "      <td>conf/recsys/BrusilovskyGFLO18</td>\n",
       "      <td>Recsys'18 joint workshop on interfaces and hum...</td>\n",
       "      <td>recsys 18 joint workshop on interfaces and hum...</td>\n",
       "      <td>2018</td>\n",
       "      <td>RecSys</td>\n",
       "      <td>https://scholar.google.com/scholar?q=Recsys%27...</td>\n",
       "      <td>https://dblp.org/rec/bibtex/conf/recsys/Brusil...</td>\n",
       "      <td>[As intelligent interactive systems, recommend...</td>\n",
       "    </tr>\n",
       "  </tbody>\n",
       "</table>\n",
       "</div>\n",
       "      <button class=\"colab-df-convert\" onclick=\"convertToInteractive('df-c9f54dc6-8e3e-4bc5-8342-bbd7963a42e7')\"\n",
       "              title=\"Convert this dataframe to an interactive table.\"\n",
       "              style=\"display:none;\">\n",
       "        \n",
       "  <svg xmlns=\"http://www.w3.org/2000/svg\" height=\"24px\"viewBox=\"0 0 24 24\"\n",
       "       width=\"24px\">\n",
       "    <path d=\"M0 0h24v24H0V0z\" fill=\"none\"/>\n",
       "    <path d=\"M18.56 5.44l.94 2.06.94-2.06 2.06-.94-2.06-.94-.94-2.06-.94 2.06-2.06.94zm-11 1L8.5 8.5l.94-2.06 2.06-.94-2.06-.94L8.5 2.5l-.94 2.06-2.06.94zm10 10l.94 2.06.94-2.06 2.06-.94-2.06-.94-.94-2.06-.94 2.06-2.06.94z\"/><path d=\"M17.41 7.96l-1.37-1.37c-.4-.4-.92-.59-1.43-.59-.52 0-1.04.2-1.43.59L10.3 9.45l-7.72 7.72c-.78.78-.78 2.05 0 2.83L4 21.41c.39.39.9.59 1.41.59.51 0 1.02-.2 1.41-.59l7.78-7.78 2.81-2.81c.8-.78.8-2.07 0-2.86zM5.41 20L4 18.59l7.72-7.72 1.47 1.35L5.41 20z\"/>\n",
       "  </svg>\n",
       "      </button>\n",
       "      \n",
       "  <style>\n",
       "    .colab-df-container {\n",
       "      display:flex;\n",
       "      flex-wrap:wrap;\n",
       "      gap: 12px;\n",
       "    }\n",
       "\n",
       "    .colab-df-convert {\n",
       "      background-color: #E8F0FE;\n",
       "      border: none;\n",
       "      border-radius: 50%;\n",
       "      cursor: pointer;\n",
       "      display: none;\n",
       "      fill: #1967D2;\n",
       "      height: 32px;\n",
       "      padding: 0 0 0 0;\n",
       "      width: 32px;\n",
       "    }\n",
       "\n",
       "    .colab-df-convert:hover {\n",
       "      background-color: #E2EBFA;\n",
       "      box-shadow: 0px 1px 2px rgba(60, 64, 67, 0.3), 0px 1px 3px 1px rgba(60, 64, 67, 0.15);\n",
       "      fill: #174EA6;\n",
       "    }\n",
       "\n",
       "    [theme=dark] .colab-df-convert {\n",
       "      background-color: #3B4455;\n",
       "      fill: #D2E3FC;\n",
       "    }\n",
       "\n",
       "    [theme=dark] .colab-df-convert:hover {\n",
       "      background-color: #434B5C;\n",
       "      box-shadow: 0px 1px 3px 1px rgba(0, 0, 0, 0.15);\n",
       "      filter: drop-shadow(0px 1px 2px rgba(0, 0, 0, 0.3));\n",
       "      fill: #FFFFFF;\n",
       "    }\n",
       "  </style>\n",
       "\n",
       "      <script>\n",
       "        const buttonEl =\n",
       "          document.querySelector('#df-c9f54dc6-8e3e-4bc5-8342-bbd7963a42e7 button.colab-df-convert');\n",
       "        buttonEl.style.display =\n",
       "          google.colab.kernel.accessAllowed ? 'block' : 'none';\n",
       "\n",
       "        async function convertToInteractive(key) {\n",
       "          const element = document.querySelector('#df-c9f54dc6-8e3e-4bc5-8342-bbd7963a42e7');\n",
       "          const dataTable =\n",
       "            await google.colab.kernel.invokeFunction('convertToInteractive',\n",
       "                                                     [key], {});\n",
       "          if (!dataTable) return;\n",
       "\n",
       "          const docLinkHtml = 'Like what you see? Visit the ' +\n",
       "            '<a target=\"_blank\" href=https://colab.research.google.com/notebooks/data_table.ipynb>data table notebook</a>'\n",
       "            + ' to learn more about interactive tables.';\n",
       "          element.innerHTML = '';\n",
       "          dataTable['output_type'] = 'display_data';\n",
       "          await google.colab.output.renderOutput(dataTable, element);\n",
       "          const docLink = document.createElement('div');\n",
       "          docLink.innerHTML = docLinkHtml;\n",
       "          element.appendChild(docLink);\n",
       "        }\n",
       "      </script>\n",
       "    </div>\n",
       "  </div>\n",
       "  "
      ],
      "text/plain": [
       "   paper_id                 paper_dblp_key  \\\n",
       "0         1        conf/recsys/LiuTLYGHZ18   \n",
       "1         2     journals/ijmms/MustoNLGS19   \n",
       "2         5          conf/iir/AnelliNSLT18   \n",
       "3         6    conf/recsys/NarducciBIGLS18   \n",
       "4         7  conf/recsys/BrusilovskyGFLO18   \n",
       "\n",
       "                                         paper_title  \\\n",
       "0  Field-aware probabilistic embedding neural net...   \n",
       "1  Linked open data-based explanations for transp...   \n",
       "2  Moving from Item Rating to Features Relevance ...   \n",
       "3  A Domain-independent Framework for building Co...   \n",
       "4  Recsys'18 joint workshop on interfaces and hum...   \n",
       "\n",
       "                                paper_filtered_title  paper_published_date  \\\n",
       "0  field aware probabilistic embedding neural net...                  2018   \n",
       "1  linked open data based explanations for transp...                  2019   \n",
       "2  moving from item rating to features relevance ...                  2018   \n",
       "3  a domain independent framework for building co...                  2018   \n",
       "4  recsys 18 joint workshop on interfaces and hum...                  2018   \n",
       "\n",
       "   paper_published_conference  \\\n",
       "0                      RecSys   \n",
       "1  Int. J. Hum.-Comput. Stud.   \n",
       "2                         IIR   \n",
       "3                 KaRS@RecSys   \n",
       "4                      RecSys   \n",
       "\n",
       "                                  paper_gscholar_url  \\\n",
       "0  https://scholar.google.com/scholar?q=Field-awa...   \n",
       "1  https://scholar.google.com/scholar?q=Linked+op...   \n",
       "2  https://scholar.google.com/scholar?q=Moving+fr...   \n",
       "3  https://scholar.google.com/scholar?q=A+Domain-...   \n",
       "4  https://scholar.google.com/scholar?q=Recsys%27...   \n",
       "\n",
       "                                      paper_dblp_url  \\\n",
       "0  https://dblp.org/rec/bibtex/conf/recsys/LiuTLY...   \n",
       "1  https://dblp.org/rec/bibtex/journals/ijmms/Mus...   \n",
       "2  https://dblp.org/rec/bibtex/conf/iir/AnelliNSLT18   \n",
       "3  https://dblp.org/rec/bibtex/conf/recsys/Narduc...   \n",
       "4  https://dblp.org/rec/bibtex/conf/recsys/Brusil...   \n",
       "\n",
       "                                      paper_abstract  \n",
       "0  [For Click-Through Rate (CTR) prediction, Fiel...  \n",
       "1  [In this article we propose a framework that g...  \n",
       "2  [Although very effective in computing accurate...  \n",
       "3  [Conversational Recommender Systems (CoRSs) im...  \n",
       "4  [As intelligent interactive systems, recommend...  "
      ]
     },
     "execution_count": 7,
     "metadata": {},
     "output_type": "execute_result"
    }
   ],
   "source": [
    "#All Publications Data\n",
    "print(df_all_publications.columns)\n",
    "print(df_all_publications.shape)\n",
    "df_all_publications.head(5)"
   ]
  },
  {
   "cell_type": "code",
   "execution_count": 8,
   "metadata": {
    "colab": {
     "base_uri": "https://localhost:8080/"
    },
    "executionInfo": {
     "elapsed": 591,
     "status": "ok",
     "timestamp": 1666936642679,
     "user": {
      "displayName": "kıymet kaya",
      "userId": "14067656308915233367"
     },
     "user_tz": -180
    },
    "id": "QGQ6zznGUj-Y",
    "outputId": "0875c194-e8b0-406e-fc4f-00eec08ab293"
   },
   "outputs": [
    {
     "name": "stdout",
     "output_type": "stream",
     "text": [
      "<class 'pandas.core.frame.DataFrame'>\n",
      "RangeIndex: 35473 entries, 0 to 35472\n",
      "Data columns (total 9 columns):\n",
      " #   Column                      Non-Null Count  Dtype \n",
      "---  ------                      --------------  ----- \n",
      " 0   paper_id                    35473 non-null  int64 \n",
      " 1   paper_dblp_key              35473 non-null  object\n",
      " 2   paper_title                 35473 non-null  object\n",
      " 3   paper_filtered_title        35473 non-null  object\n",
      " 4   paper_published_date        35473 non-null  int64 \n",
      " 5   paper_published_conference  35473 non-null  object\n",
      " 6   paper_gscholar_url          35473 non-null  object\n",
      " 7   paper_dblp_url              35473 non-null  object\n",
      " 8   paper_abstract              32944 non-null  object\n",
      "dtypes: int64(2), object(7)\n",
      "memory usage: 2.4+ MB\n",
      "None\n"
     ]
    }
   ],
   "source": [
    "#All Publications Data\n",
    "print(df_all_publications.info())"
   ]
  },
  {
   "cell_type": "code",
   "execution_count": 9,
   "metadata": {
    "colab": {
     "base_uri": "https://localhost:8080/",
     "height": 243
    },
    "executionInfo": {
     "elapsed": 47,
     "status": "ok",
     "timestamp": 1666936642680,
     "user": {
      "displayName": "kıymet kaya",
      "userId": "14067656308915233367"
     },
     "user_tz": -180
    },
    "id": "XW1pPaZBF8B_",
    "outputId": "03fe989c-28c8-430c-e9eb-d5989050173b"
   },
   "outputs": [
    {
     "name": "stdout",
     "output_type": "stream",
     "text": [
      "Index(['author', 'publication'], dtype='object')\n",
      "(17637, 2)\n"
     ]
    },
    {
     "data": {
      "text/html": [
       "\n",
       "  <div id=\"df-c7ae681f-ed91-4537-bd61-56313ecdeae1\">\n",
       "    <div class=\"colab-df-container\">\n",
       "      <div>\n",
       "<style scoped>\n",
       "    .dataframe tbody tr th:only-of-type {\n",
       "        vertical-align: middle;\n",
       "    }\n",
       "\n",
       "    .dataframe tbody tr th {\n",
       "        vertical-align: top;\n",
       "    }\n",
       "\n",
       "    .dataframe thead th {\n",
       "        text-align: right;\n",
       "    }\n",
       "</style>\n",
       "<table border=\"1\" class=\"dataframe\">\n",
       "  <thead>\n",
       "    <tr style=\"text-align: right;\">\n",
       "      <th></th>\n",
       "      <th>author</th>\n",
       "      <th>publication</th>\n",
       "    </tr>\n",
       "  </thead>\n",
       "  <tbody>\n",
       "    <tr>\n",
       "      <th>0</th>\n",
       "      <td>4</td>\n",
       "      <td>173</td>\n",
       "    </tr>\n",
       "    <tr>\n",
       "      <th>1</th>\n",
       "      <td>4</td>\n",
       "      <td>174</td>\n",
       "    </tr>\n",
       "    <tr>\n",
       "      <th>2</th>\n",
       "      <td>4</td>\n",
       "      <td>175</td>\n",
       "    </tr>\n",
       "    <tr>\n",
       "      <th>3</th>\n",
       "      <td>4</td>\n",
       "      <td>176</td>\n",
       "    </tr>\n",
       "    <tr>\n",
       "      <th>4</th>\n",
       "      <td>4</td>\n",
       "      <td>177</td>\n",
       "    </tr>\n",
       "  </tbody>\n",
       "</table>\n",
       "</div>\n",
       "      <button class=\"colab-df-convert\" onclick=\"convertToInteractive('df-c7ae681f-ed91-4537-bd61-56313ecdeae1')\"\n",
       "              title=\"Convert this dataframe to an interactive table.\"\n",
       "              style=\"display:none;\">\n",
       "        \n",
       "  <svg xmlns=\"http://www.w3.org/2000/svg\" height=\"24px\"viewBox=\"0 0 24 24\"\n",
       "       width=\"24px\">\n",
       "    <path d=\"M0 0h24v24H0V0z\" fill=\"none\"/>\n",
       "    <path d=\"M18.56 5.44l.94 2.06.94-2.06 2.06-.94-2.06-.94-.94-2.06-.94 2.06-2.06.94zm-11 1L8.5 8.5l.94-2.06 2.06-.94-2.06-.94L8.5 2.5l-.94 2.06-2.06.94zm10 10l.94 2.06.94-2.06 2.06-.94-2.06-.94-.94-2.06-.94 2.06-2.06.94z\"/><path d=\"M17.41 7.96l-1.37-1.37c-.4-.4-.92-.59-1.43-.59-.52 0-1.04.2-1.43.59L10.3 9.45l-7.72 7.72c-.78.78-.78 2.05 0 2.83L4 21.41c.39.39.9.59 1.41.59.51 0 1.02-.2 1.41-.59l7.78-7.78 2.81-2.81c.8-.78.8-2.07 0-2.86zM5.41 20L4 18.59l7.72-7.72 1.47 1.35L5.41 20z\"/>\n",
       "  </svg>\n",
       "      </button>\n",
       "      \n",
       "  <style>\n",
       "    .colab-df-container {\n",
       "      display:flex;\n",
       "      flex-wrap:wrap;\n",
       "      gap: 12px;\n",
       "    }\n",
       "\n",
       "    .colab-df-convert {\n",
       "      background-color: #E8F0FE;\n",
       "      border: none;\n",
       "      border-radius: 50%;\n",
       "      cursor: pointer;\n",
       "      display: none;\n",
       "      fill: #1967D2;\n",
       "      height: 32px;\n",
       "      padding: 0 0 0 0;\n",
       "      width: 32px;\n",
       "    }\n",
       "\n",
       "    .colab-df-convert:hover {\n",
       "      background-color: #E2EBFA;\n",
       "      box-shadow: 0px 1px 2px rgba(60, 64, 67, 0.3), 0px 1px 3px 1px rgba(60, 64, 67, 0.15);\n",
       "      fill: #174EA6;\n",
       "    }\n",
       "\n",
       "    [theme=dark] .colab-df-convert {\n",
       "      background-color: #3B4455;\n",
       "      fill: #D2E3FC;\n",
       "    }\n",
       "\n",
       "    [theme=dark] .colab-df-convert:hover {\n",
       "      background-color: #434B5C;\n",
       "      box-shadow: 0px 1px 3px 1px rgba(0, 0, 0, 0.15);\n",
       "      filter: drop-shadow(0px 1px 2px rgba(0, 0, 0, 0.3));\n",
       "      fill: #FFFFFF;\n",
       "    }\n",
       "  </style>\n",
       "\n",
       "      <script>\n",
       "        const buttonEl =\n",
       "          document.querySelector('#df-c7ae681f-ed91-4537-bd61-56313ecdeae1 button.colab-df-convert');\n",
       "        buttonEl.style.display =\n",
       "          google.colab.kernel.accessAllowed ? 'block' : 'none';\n",
       "\n",
       "        async function convertToInteractive(key) {\n",
       "          const element = document.querySelector('#df-c7ae681f-ed91-4537-bd61-56313ecdeae1');\n",
       "          const dataTable =\n",
       "            await google.colab.kernel.invokeFunction('convertToInteractive',\n",
       "                                                     [key], {});\n",
       "          if (!dataTable) return;\n",
       "\n",
       "          const docLinkHtml = 'Like what you see? Visit the ' +\n",
       "            '<a target=\"_blank\" href=https://colab.research.google.com/notebooks/data_table.ipynb>data table notebook</a>'\n",
       "            + ' to learn more about interactive tables.';\n",
       "          element.innerHTML = '';\n",
       "          dataTable['output_type'] = 'display_data';\n",
       "          await google.colab.output.renderOutput(dataTable, element);\n",
       "          const docLink = document.createElement('div');\n",
       "          docLink.innerHTML = docLinkHtml;\n",
       "          element.appendChild(docLink);\n",
       "        }\n",
       "      </script>\n",
       "    </div>\n",
       "  </div>\n",
       "  "
      ],
      "text/plain": [
       "   author  publication\n",
       "0       4          173\n",
       "1       4          174\n",
       "2       4          175\n",
       "3       4          176\n",
       "4       4          177"
      ]
     },
     "execution_count": 9,
     "metadata": {},
     "output_type": "execute_result"
    }
   ],
   "source": [
    "#Selected Author Publications Data\n",
    "print(df_selected_author_publications.columns)\n",
    "print(df_selected_author_publications.shape)\n",
    "df_selected_author_publications.head(5)"
   ]
  },
  {
   "cell_type": "code",
   "execution_count": 10,
   "metadata": {
    "colab": {
     "base_uri": "https://localhost:8080/"
    },
    "executionInfo": {
     "elapsed": 44,
     "status": "ok",
     "timestamp": 1666936642682,
     "user": {
      "displayName": "kıymet kaya",
      "userId": "14067656308915233367"
     },
     "user_tz": -180
    },
    "id": "yUSxOaIiUov7",
    "outputId": "9c765615-c7fb-4a16-813c-5cd2776138e4"
   },
   "outputs": [
    {
     "name": "stdout",
     "output_type": "stream",
     "text": [
      "<class 'pandas.core.frame.DataFrame'>\n",
      "RangeIndex: 17637 entries, 0 to 17636\n",
      "Data columns (total 2 columns):\n",
      " #   Column       Non-Null Count  Dtype\n",
      "---  ------       --------------  -----\n",
      " 0   author       17637 non-null  int64\n",
      " 1   publication  17637 non-null  int64\n",
      "dtypes: int64(2)\n",
      "memory usage: 275.7 KB\n",
      "None\n",
      "547\n"
     ]
    }
   ],
   "source": [
    "#Selected Author Publications Data\n",
    "print(df_selected_author_publications.info())\n",
    "\n",
    "#There are 547 authors in this dataset.\n",
    "print(len(df_selected_author_publications['author'].unique()))"
   ]
  },
  {
   "cell_type": "code",
   "execution_count": 11,
   "metadata": {
    "colab": {
     "base_uri": "https://localhost:8080/",
     "height": 464
    },
    "executionInfo": {
     "elapsed": 45,
     "status": "ok",
     "timestamp": 1666936642686,
     "user": {
      "displayName": "kıymet kaya",
      "userId": "14067656308915233367"
     },
     "user_tz": -180
    },
    "id": "8e5pBz-HF8CA",
    "outputId": "3d069aa6-bfa4-49ea-c662-ae53b96fe26a"
   },
   "outputs": [
    {
     "name": "stdout",
     "output_type": "stream",
     "text": [
      "Index(['citing_paper_id', 'cited_paper_id', 'citation_title',\n",
      "       'citation_filtered_title', 'citation_sentence_before',\n",
      "       'citation_sentence_cited', 'citation_sentence_after',\n",
      "       'citation_position (section)'],\n",
      "      dtype='object')\n",
      "(20652, 8)\n"
     ]
    },
    {
     "data": {
      "text/html": [
       "\n",
       "  <div id=\"df-3790624f-3c38-499d-9c30-d153e8ecf5ae\">\n",
       "    <div class=\"colab-df-container\">\n",
       "      <div>\n",
       "<style scoped>\n",
       "    .dataframe tbody tr th:only-of-type {\n",
       "        vertical-align: middle;\n",
       "    }\n",
       "\n",
       "    .dataframe tbody tr th {\n",
       "        vertical-align: top;\n",
       "    }\n",
       "\n",
       "    .dataframe thead th {\n",
       "        text-align: right;\n",
       "    }\n",
       "</style>\n",
       "<table border=\"1\" class=\"dataframe\">\n",
       "  <thead>\n",
       "    <tr style=\"text-align: right;\">\n",
       "      <th></th>\n",
       "      <th>citing_paper_id</th>\n",
       "      <th>cited_paper_id</th>\n",
       "      <th>citation_title</th>\n",
       "      <th>citation_filtered_title</th>\n",
       "      <th>citation_sentence_before</th>\n",
       "      <th>citation_sentence_cited</th>\n",
       "      <th>citation_sentence_after</th>\n",
       "      <th>citation_position (section)</th>\n",
       "    </tr>\n",
       "  </thead>\n",
       "  <tbody>\n",
       "    <tr>\n",
       "      <th>0</th>\n",
       "      <td>1</td>\n",
       "      <td>5835</td>\n",
       "      <td>Deep neural networks for youtube recommendations</td>\n",
       "      <td>deep neural networks for youtube recommendations</td>\n",
       "      <td>though shallow models are generally easy to im...</td>\n",
       "      <td>recently due to the powerful ability of featur...</td>\n",
       "      <td>deep models however are biased to high order i...</td>\n",
       "      <td>Introduction</td>\n",
       "    </tr>\n",
       "    <tr>\n",
       "      <th>1</th>\n",
       "      <td>1</td>\n",
       "      <td>5835</td>\n",
       "      <td>Deep neural networks for youtube recommendations</td>\n",
       "      <td>deep neural networks for youtube recommendations</td>\n",
       "      <td>though shallow models are generally easy to im...</td>\n",
       "      <td>recently due to the powerful ability of featur...</td>\n",
       "      <td>deep models however are biased to high order i...</td>\n",
       "      <td>Introduction</td>\n",
       "    </tr>\n",
       "    <tr>\n",
       "      <th>2</th>\n",
       "      <td>1</td>\n",
       "      <td>5835</td>\n",
       "      <td>Deep neural networks for youtube recommendations</td>\n",
       "      <td>deep neural networks for youtube recommendations</td>\n",
       "      <td>though shallow models are generally easy to im...</td>\n",
       "      <td>recently due to the powerful ability of featur...</td>\n",
       "      <td>deep models however are biased to high order i...</td>\n",
       "      <td>Introduction</td>\n",
       "    </tr>\n",
       "    <tr>\n",
       "      <th>3</th>\n",
       "      <td>2</td>\n",
       "      <td>12097</td>\n",
       "      <td>The effects of transparency on trust in and ac...</td>\n",
       "      <td>the effects of transparency on trust in and ac...</td>\n",
       "      <td>in the system provided a tag based explanation...</td>\n",
       "      <td>another content based explanation approach is ...</td>\n",
       "      <td>the authors establi shed that explaining why a...</td>\n",
       "      <td>Related_Work</td>\n",
       "    </tr>\n",
       "    <tr>\n",
       "      <th>4</th>\n",
       "      <td>2</td>\n",
       "      <td>42695</td>\n",
       "      <td>Explaining collaborative filtering recommendat...</td>\n",
       "      <td>explaining collaborative filtering recommendat...</td>\n",
       "      <td>the importance of providing information system...</td>\n",
       "      <td>however the first attempt towards the exploita...</td>\n",
       "      <td>more recently on different explanation goals</td>\n",
       "      <td>Related_Work</td>\n",
       "    </tr>\n",
       "  </tbody>\n",
       "</table>\n",
       "</div>\n",
       "      <button class=\"colab-df-convert\" onclick=\"convertToInteractive('df-3790624f-3c38-499d-9c30-d153e8ecf5ae')\"\n",
       "              title=\"Convert this dataframe to an interactive table.\"\n",
       "              style=\"display:none;\">\n",
       "        \n",
       "  <svg xmlns=\"http://www.w3.org/2000/svg\" height=\"24px\"viewBox=\"0 0 24 24\"\n",
       "       width=\"24px\">\n",
       "    <path d=\"M0 0h24v24H0V0z\" fill=\"none\"/>\n",
       "    <path d=\"M18.56 5.44l.94 2.06.94-2.06 2.06-.94-2.06-.94-.94-2.06-.94 2.06-2.06.94zm-11 1L8.5 8.5l.94-2.06 2.06-.94-2.06-.94L8.5 2.5l-.94 2.06-2.06.94zm10 10l.94 2.06.94-2.06 2.06-.94-2.06-.94-.94-2.06-.94 2.06-2.06.94z\"/><path d=\"M17.41 7.96l-1.37-1.37c-.4-.4-.92-.59-1.43-.59-.52 0-1.04.2-1.43.59L10.3 9.45l-7.72 7.72c-.78.78-.78 2.05 0 2.83L4 21.41c.39.39.9.59 1.41.59.51 0 1.02-.2 1.41-.59l7.78-7.78 2.81-2.81c.8-.78.8-2.07 0-2.86zM5.41 20L4 18.59l7.72-7.72 1.47 1.35L5.41 20z\"/>\n",
       "  </svg>\n",
       "      </button>\n",
       "      \n",
       "  <style>\n",
       "    .colab-df-container {\n",
       "      display:flex;\n",
       "      flex-wrap:wrap;\n",
       "      gap: 12px;\n",
       "    }\n",
       "\n",
       "    .colab-df-convert {\n",
       "      background-color: #E8F0FE;\n",
       "      border: none;\n",
       "      border-radius: 50%;\n",
       "      cursor: pointer;\n",
       "      display: none;\n",
       "      fill: #1967D2;\n",
       "      height: 32px;\n",
       "      padding: 0 0 0 0;\n",
       "      width: 32px;\n",
       "    }\n",
       "\n",
       "    .colab-df-convert:hover {\n",
       "      background-color: #E2EBFA;\n",
       "      box-shadow: 0px 1px 2px rgba(60, 64, 67, 0.3), 0px 1px 3px 1px rgba(60, 64, 67, 0.15);\n",
       "      fill: #174EA6;\n",
       "    }\n",
       "\n",
       "    [theme=dark] .colab-df-convert {\n",
       "      background-color: #3B4455;\n",
       "      fill: #D2E3FC;\n",
       "    }\n",
       "\n",
       "    [theme=dark] .colab-df-convert:hover {\n",
       "      background-color: #434B5C;\n",
       "      box-shadow: 0px 1px 3px 1px rgba(0, 0, 0, 0.15);\n",
       "      filter: drop-shadow(0px 1px 2px rgba(0, 0, 0, 0.3));\n",
       "      fill: #FFFFFF;\n",
       "    }\n",
       "  </style>\n",
       "\n",
       "      <script>\n",
       "        const buttonEl =\n",
       "          document.querySelector('#df-3790624f-3c38-499d-9c30-d153e8ecf5ae button.colab-df-convert');\n",
       "        buttonEl.style.display =\n",
       "          google.colab.kernel.accessAllowed ? 'block' : 'none';\n",
       "\n",
       "        async function convertToInteractive(key) {\n",
       "          const element = document.querySelector('#df-3790624f-3c38-499d-9c30-d153e8ecf5ae');\n",
       "          const dataTable =\n",
       "            await google.colab.kernel.invokeFunction('convertToInteractive',\n",
       "                                                     [key], {});\n",
       "          if (!dataTable) return;\n",
       "\n",
       "          const docLinkHtml = 'Like what you see? Visit the ' +\n",
       "            '<a target=\"_blank\" href=https://colab.research.google.com/notebooks/data_table.ipynb>data table notebook</a>'\n",
       "            + ' to learn more about interactive tables.';\n",
       "          element.innerHTML = '';\n",
       "          dataTable['output_type'] = 'display_data';\n",
       "          await google.colab.output.renderOutput(dataTable, element);\n",
       "          const docLink = document.createElement('div');\n",
       "          docLink.innerHTML = docLinkHtml;\n",
       "          element.appendChild(docLink);\n",
       "        }\n",
       "      </script>\n",
       "    </div>\n",
       "  </div>\n",
       "  "
      ],
      "text/plain": [
       "   citing_paper_id  cited_paper_id  \\\n",
       "0                1            5835   \n",
       "1                1            5835   \n",
       "2                1            5835   \n",
       "3                2           12097   \n",
       "4                2           42695   \n",
       "\n",
       "                                      citation_title  \\\n",
       "0   Deep neural networks for youtube recommendations   \n",
       "1   Deep neural networks for youtube recommendations   \n",
       "2   Deep neural networks for youtube recommendations   \n",
       "3  The effects of transparency on trust in and ac...   \n",
       "4  Explaining collaborative filtering recommendat...   \n",
       "\n",
       "                             citation_filtered_title  \\\n",
       "0   deep neural networks for youtube recommendations   \n",
       "1   deep neural networks for youtube recommendations   \n",
       "2   deep neural networks for youtube recommendations   \n",
       "3  the effects of transparency on trust in and ac...   \n",
       "4  explaining collaborative filtering recommendat...   \n",
       "\n",
       "                            citation_sentence_before  \\\n",
       "0  though shallow models are generally easy to im...   \n",
       "1  though shallow models are generally easy to im...   \n",
       "2  though shallow models are generally easy to im...   \n",
       "3  in the system provided a tag based explanation...   \n",
       "4  the importance of providing information system...   \n",
       "\n",
       "                             citation_sentence_cited  \\\n",
       "0  recently due to the powerful ability of featur...   \n",
       "1  recently due to the powerful ability of featur...   \n",
       "2  recently due to the powerful ability of featur...   \n",
       "3  another content based explanation approach is ...   \n",
       "4  however the first attempt towards the exploita...   \n",
       "\n",
       "                             citation_sentence_after  \\\n",
       "0  deep models however are biased to high order i...   \n",
       "1  deep models however are biased to high order i...   \n",
       "2  deep models however are biased to high order i...   \n",
       "3  the authors establi shed that explaining why a...   \n",
       "4       more recently on different explanation goals   \n",
       "\n",
       "  citation_position (section)  \n",
       "0                Introduction  \n",
       "1                Introduction  \n",
       "2                Introduction  \n",
       "3                Related_Work  \n",
       "4                Related_Work  "
      ]
     },
     "execution_count": 11,
     "metadata": {},
     "output_type": "execute_result"
    }
   ],
   "source": [
    "#Selected Publication Citations Data\n",
    "print(df_selected_publication_citations.columns)\n",
    "print(df_selected_publication_citations.shape)\n",
    "df_selected_publication_citations.head(5)\n",
    "\n",
    "# Ex 0: Paper #1 quoted paper 5835. Citation title etc information belongs to paper number 5835."
   ]
  },
  {
   "cell_type": "code",
   "execution_count": 12,
   "metadata": {
    "colab": {
     "base_uri": "https://localhost:8080/"
    },
    "executionInfo": {
     "elapsed": 44,
     "status": "ok",
     "timestamp": 1666936642687,
     "user": {
      "displayName": "kıymet kaya",
      "userId": "14067656308915233367"
     },
     "user_tz": -180
    },
    "id": "jgxqB9TyU4SL",
    "outputId": "5446c009-5c2d-418a-acf8-6dd5417b6a7c"
   },
   "outputs": [
    {
     "name": "stdout",
     "output_type": "stream",
     "text": [
      "<class 'pandas.core.frame.DataFrame'>\n",
      "RangeIndex: 20652 entries, 0 to 20651\n",
      "Data columns (total 8 columns):\n",
      " #   Column                       Non-Null Count  Dtype \n",
      "---  ------                       --------------  ----- \n",
      " 0   citing_paper_id              20652 non-null  int64 \n",
      " 1   cited_paper_id               20652 non-null  int64 \n",
      " 2   citation_title               20652 non-null  object\n",
      " 3   citation_filtered_title      20652 non-null  object\n",
      " 4   citation_sentence_before     15147 non-null  object\n",
      " 5   citation_sentence_cited      20617 non-null  object\n",
      " 6   citation_sentence_after      15793 non-null  object\n",
      " 7   citation_position (section)  20652 non-null  object\n",
      "dtypes: int64(2), object(6)\n",
      "memory usage: 1.3+ MB\n",
      "None\n"
     ]
    }
   ],
   "source": [
    "#Selected Publication Citations Data\n",
    "print(df_selected_publication_citations.info())"
   ]
  },
  {
   "cell_type": "markdown",
   "metadata": {
    "id": "nKSTf603V0o4"
   },
   "source": [
    "## Data Preprocessing\n",
    "\n",
    "In this section, the operations that may be required for preprocessing the data are shared with an example. These are just a few basics, different preprocessing need to be added if needed.\n",
    "\n",
    "1.   **Duplicate samples:**\n",
    "2.   **Non-informative Features:** \n",
    "3.   **NA (Not Available) Values:**\n"
   ]
  },
  {
   "cell_type": "markdown",
   "metadata": {
    "id": "TlScE3AcZh0R"
   },
   "source": [
    "--------------------------------"
   ]
  },
  {
   "cell_type": "markdown",
   "metadata": {
    "id": "xrJtji4zZdha"
   },
   "source": [
    "1.   **Duplicate samples:**"
   ]
  },
  {
   "cell_type": "code",
   "execution_count": 13,
   "metadata": {
    "colab": {
     "base_uri": "https://localhost:8080/",
     "height": 372
    },
    "executionInfo": {
     "elapsed": 43,
     "status": "ok",
     "timestamp": 1666936642688,
     "user": {
      "displayName": "kıymet kaya",
      "userId": "14067656308915233367"
     },
     "user_tz": -180
    },
    "id": "2g8Pe6iMU5G2",
    "outputId": "a548aea6-ff0c-4e8c-8e07-7f320cdcaf27"
   },
   "outputs": [
    {
     "name": "stdout",
     "output_type": "stream",
     "text": [
      "(20652, 8)\n"
     ]
    },
    {
     "data": {
      "text/html": [
       "\n",
       "  <div id=\"df-a420ec4e-5f7e-45ee-8c03-ef1911246a59\">\n",
       "    <div class=\"colab-df-container\">\n",
       "      <div>\n",
       "<style scoped>\n",
       "    .dataframe tbody tr th:only-of-type {\n",
       "        vertical-align: middle;\n",
       "    }\n",
       "\n",
       "    .dataframe tbody tr th {\n",
       "        vertical-align: top;\n",
       "    }\n",
       "\n",
       "    .dataframe thead th {\n",
       "        text-align: right;\n",
       "    }\n",
       "</style>\n",
       "<table border=\"1\" class=\"dataframe\">\n",
       "  <thead>\n",
       "    <tr style=\"text-align: right;\">\n",
       "      <th></th>\n",
       "      <th>citing_paper_id</th>\n",
       "      <th>cited_paper_id</th>\n",
       "      <th>citation_title</th>\n",
       "      <th>citation_filtered_title</th>\n",
       "      <th>citation_sentence_before</th>\n",
       "      <th>citation_sentence_cited</th>\n",
       "      <th>citation_sentence_after</th>\n",
       "      <th>citation_position (section)</th>\n",
       "    </tr>\n",
       "  </thead>\n",
       "  <tbody>\n",
       "    <tr>\n",
       "      <th>0</th>\n",
       "      <td>1</td>\n",
       "      <td>5835</td>\n",
       "      <td>Deep neural networks for youtube recommendations</td>\n",
       "      <td>deep neural networks for youtube recommendations</td>\n",
       "      <td>though shallow models are generally easy to im...</td>\n",
       "      <td>recently due to the powerful ability of featur...</td>\n",
       "      <td>deep models however are biased to high order i...</td>\n",
       "      <td>Introduction</td>\n",
       "    </tr>\n",
       "    <tr>\n",
       "      <th>1</th>\n",
       "      <td>1</td>\n",
       "      <td>5835</td>\n",
       "      <td>Deep neural networks for youtube recommendations</td>\n",
       "      <td>deep neural networks for youtube recommendations</td>\n",
       "      <td>though shallow models are generally easy to im...</td>\n",
       "      <td>recently due to the powerful ability of featur...</td>\n",
       "      <td>deep models however are biased to high order i...</td>\n",
       "      <td>Introduction</td>\n",
       "    </tr>\n",
       "    <tr>\n",
       "      <th>2</th>\n",
       "      <td>1</td>\n",
       "      <td>5835</td>\n",
       "      <td>Deep neural networks for youtube recommendations</td>\n",
       "      <td>deep neural networks for youtube recommendations</td>\n",
       "      <td>though shallow models are generally easy to im...</td>\n",
       "      <td>recently due to the powerful ability of featur...</td>\n",
       "      <td>deep models however are biased to high order i...</td>\n",
       "      <td>Introduction</td>\n",
       "    </tr>\n",
       "    <tr>\n",
       "      <th>3</th>\n",
       "      <td>2</td>\n",
       "      <td>12097</td>\n",
       "      <td>The effects of transparency on trust in and ac...</td>\n",
       "      <td>the effects of transparency on trust in and ac...</td>\n",
       "      <td>in the system provided a tag based explanation...</td>\n",
       "      <td>another content based explanation approach is ...</td>\n",
       "      <td>the authors establi shed that explaining why a...</td>\n",
       "      <td>Related_Work</td>\n",
       "    </tr>\n",
       "    <tr>\n",
       "      <th>4</th>\n",
       "      <td>2</td>\n",
       "      <td>42695</td>\n",
       "      <td>Explaining collaborative filtering recommendat...</td>\n",
       "      <td>explaining collaborative filtering recommendat...</td>\n",
       "      <td>the importance of providing information system...</td>\n",
       "      <td>however the first attempt towards the exploita...</td>\n",
       "      <td>more recently on different explanation goals</td>\n",
       "      <td>Related_Work</td>\n",
       "    </tr>\n",
       "  </tbody>\n",
       "</table>\n",
       "</div>\n",
       "      <button class=\"colab-df-convert\" onclick=\"convertToInteractive('df-a420ec4e-5f7e-45ee-8c03-ef1911246a59')\"\n",
       "              title=\"Convert this dataframe to an interactive table.\"\n",
       "              style=\"display:none;\">\n",
       "        \n",
       "  <svg xmlns=\"http://www.w3.org/2000/svg\" height=\"24px\"viewBox=\"0 0 24 24\"\n",
       "       width=\"24px\">\n",
       "    <path d=\"M0 0h24v24H0V0z\" fill=\"none\"/>\n",
       "    <path d=\"M18.56 5.44l.94 2.06.94-2.06 2.06-.94-2.06-.94-.94-2.06-.94 2.06-2.06.94zm-11 1L8.5 8.5l.94-2.06 2.06-.94-2.06-.94L8.5 2.5l-.94 2.06-2.06.94zm10 10l.94 2.06.94-2.06 2.06-.94-2.06-.94-.94-2.06-.94 2.06-2.06.94z\"/><path d=\"M17.41 7.96l-1.37-1.37c-.4-.4-.92-.59-1.43-.59-.52 0-1.04.2-1.43.59L10.3 9.45l-7.72 7.72c-.78.78-.78 2.05 0 2.83L4 21.41c.39.39.9.59 1.41.59.51 0 1.02-.2 1.41-.59l7.78-7.78 2.81-2.81c.8-.78.8-2.07 0-2.86zM5.41 20L4 18.59l7.72-7.72 1.47 1.35L5.41 20z\"/>\n",
       "  </svg>\n",
       "      </button>\n",
       "      \n",
       "  <style>\n",
       "    .colab-df-container {\n",
       "      display:flex;\n",
       "      flex-wrap:wrap;\n",
       "      gap: 12px;\n",
       "    }\n",
       "\n",
       "    .colab-df-convert {\n",
       "      background-color: #E8F0FE;\n",
       "      border: none;\n",
       "      border-radius: 50%;\n",
       "      cursor: pointer;\n",
       "      display: none;\n",
       "      fill: #1967D2;\n",
       "      height: 32px;\n",
       "      padding: 0 0 0 0;\n",
       "      width: 32px;\n",
       "    }\n",
       "\n",
       "    .colab-df-convert:hover {\n",
       "      background-color: #E2EBFA;\n",
       "      box-shadow: 0px 1px 2px rgba(60, 64, 67, 0.3), 0px 1px 3px 1px rgba(60, 64, 67, 0.15);\n",
       "      fill: #174EA6;\n",
       "    }\n",
       "\n",
       "    [theme=dark] .colab-df-convert {\n",
       "      background-color: #3B4455;\n",
       "      fill: #D2E3FC;\n",
       "    }\n",
       "\n",
       "    [theme=dark] .colab-df-convert:hover {\n",
       "      background-color: #434B5C;\n",
       "      box-shadow: 0px 1px 3px 1px rgba(0, 0, 0, 0.15);\n",
       "      filter: drop-shadow(0px 1px 2px rgba(0, 0, 0, 0.3));\n",
       "      fill: #FFFFFF;\n",
       "    }\n",
       "  </style>\n",
       "\n",
       "      <script>\n",
       "        const buttonEl =\n",
       "          document.querySelector('#df-a420ec4e-5f7e-45ee-8c03-ef1911246a59 button.colab-df-convert');\n",
       "        buttonEl.style.display =\n",
       "          google.colab.kernel.accessAllowed ? 'block' : 'none';\n",
       "\n",
       "        async function convertToInteractive(key) {\n",
       "          const element = document.querySelector('#df-a420ec4e-5f7e-45ee-8c03-ef1911246a59');\n",
       "          const dataTable =\n",
       "            await google.colab.kernel.invokeFunction('convertToInteractive',\n",
       "                                                     [key], {});\n",
       "          if (!dataTable) return;\n",
       "\n",
       "          const docLinkHtml = 'Like what you see? Visit the ' +\n",
       "            '<a target=\"_blank\" href=https://colab.research.google.com/notebooks/data_table.ipynb>data table notebook</a>'\n",
       "            + ' to learn more about interactive tables.';\n",
       "          element.innerHTML = '';\n",
       "          dataTable['output_type'] = 'display_data';\n",
       "          await google.colab.output.renderOutput(dataTable, element);\n",
       "          const docLink = document.createElement('div');\n",
       "          docLink.innerHTML = docLinkHtml;\n",
       "          element.appendChild(docLink);\n",
       "        }\n",
       "      </script>\n",
       "    </div>\n",
       "  </div>\n",
       "  "
      ],
      "text/plain": [
       "   citing_paper_id  cited_paper_id  \\\n",
       "0                1            5835   \n",
       "1                1            5835   \n",
       "2                1            5835   \n",
       "3                2           12097   \n",
       "4                2           42695   \n",
       "\n",
       "                                      citation_title  \\\n",
       "0   Deep neural networks for youtube recommendations   \n",
       "1   Deep neural networks for youtube recommendations   \n",
       "2   Deep neural networks for youtube recommendations   \n",
       "3  The effects of transparency on trust in and ac...   \n",
       "4  Explaining collaborative filtering recommendat...   \n",
       "\n",
       "                             citation_filtered_title  \\\n",
       "0   deep neural networks for youtube recommendations   \n",
       "1   deep neural networks for youtube recommendations   \n",
       "2   deep neural networks for youtube recommendations   \n",
       "3  the effects of transparency on trust in and ac...   \n",
       "4  explaining collaborative filtering recommendat...   \n",
       "\n",
       "                            citation_sentence_before  \\\n",
       "0  though shallow models are generally easy to im...   \n",
       "1  though shallow models are generally easy to im...   \n",
       "2  though shallow models are generally easy to im...   \n",
       "3  in the system provided a tag based explanation...   \n",
       "4  the importance of providing information system...   \n",
       "\n",
       "                             citation_sentence_cited  \\\n",
       "0  recently due to the powerful ability of featur...   \n",
       "1  recently due to the powerful ability of featur...   \n",
       "2  recently due to the powerful ability of featur...   \n",
       "3  another content based explanation approach is ...   \n",
       "4  however the first attempt towards the exploita...   \n",
       "\n",
       "                             citation_sentence_after  \\\n",
       "0  deep models however are biased to high order i...   \n",
       "1  deep models however are biased to high order i...   \n",
       "2  deep models however are biased to high order i...   \n",
       "3  the authors establi shed that explaining why a...   \n",
       "4       more recently on different explanation goals   \n",
       "\n",
       "  citation_position (section)  \n",
       "0                Introduction  \n",
       "1                Introduction  \n",
       "2                Introduction  \n",
       "3                Related_Work  \n",
       "4                Related_Work  "
      ]
     },
     "execution_count": 13,
     "metadata": {},
     "output_type": "execute_result"
    }
   ],
   "source": [
    "print(df_selected_publication_citations.shape)\n",
    "df_selected_publication_citations.head(5)\n",
    "#It seems 0,1 & 2 are duplicated rows."
   ]
  },
  {
   "cell_type": "code",
   "execution_count": 14,
   "metadata": {
    "colab": {
     "base_uri": "https://localhost:8080/",
     "height": 372
    },
    "executionInfo": {
     "elapsed": 41,
     "status": "ok",
     "timestamp": 1666936642689,
     "user": {
      "displayName": "kıymet kaya",
      "userId": "14067656308915233367"
     },
     "user_tz": -180
    },
    "id": "8yXKD4ORZmBW",
    "outputId": "05ea8cfe-fed1-45eb-e85a-ddda70854a34"
   },
   "outputs": [
    {
     "name": "stdout",
     "output_type": "stream",
     "text": [
      "(14287, 8)\n"
     ]
    },
    {
     "data": {
      "text/html": [
       "\n",
       "  <div id=\"df-50dfc611-5d05-4f72-a569-4ce69c29215f\">\n",
       "    <div class=\"colab-df-container\">\n",
       "      <div>\n",
       "<style scoped>\n",
       "    .dataframe tbody tr th:only-of-type {\n",
       "        vertical-align: middle;\n",
       "    }\n",
       "\n",
       "    .dataframe tbody tr th {\n",
       "        vertical-align: top;\n",
       "    }\n",
       "\n",
       "    .dataframe thead th {\n",
       "        text-align: right;\n",
       "    }\n",
       "</style>\n",
       "<table border=\"1\" class=\"dataframe\">\n",
       "  <thead>\n",
       "    <tr style=\"text-align: right;\">\n",
       "      <th></th>\n",
       "      <th>citing_paper_id</th>\n",
       "      <th>cited_paper_id</th>\n",
       "      <th>citation_title</th>\n",
       "      <th>citation_filtered_title</th>\n",
       "      <th>citation_sentence_before</th>\n",
       "      <th>citation_sentence_cited</th>\n",
       "      <th>citation_sentence_after</th>\n",
       "      <th>citation_position (section)</th>\n",
       "    </tr>\n",
       "  </thead>\n",
       "  <tbody>\n",
       "    <tr>\n",
       "      <th>0</th>\n",
       "      <td>1</td>\n",
       "      <td>5835</td>\n",
       "      <td>Deep neural networks for youtube recommendations</td>\n",
       "      <td>deep neural networks for youtube recommendations</td>\n",
       "      <td>though shallow models are generally easy to im...</td>\n",
       "      <td>recently due to the powerful ability of featur...</td>\n",
       "      <td>deep models however are biased to high order i...</td>\n",
       "      <td>Introduction</td>\n",
       "    </tr>\n",
       "    <tr>\n",
       "      <th>3</th>\n",
       "      <td>2</td>\n",
       "      <td>12097</td>\n",
       "      <td>The effects of transparency on trust in and ac...</td>\n",
       "      <td>the effects of transparency on trust in and ac...</td>\n",
       "      <td>in the system provided a tag based explanation...</td>\n",
       "      <td>another content based explanation approach is ...</td>\n",
       "      <td>the authors establi shed that explaining why a...</td>\n",
       "      <td>Related_Work</td>\n",
       "    </tr>\n",
       "    <tr>\n",
       "      <th>4</th>\n",
       "      <td>2</td>\n",
       "      <td>42695</td>\n",
       "      <td>Explaining collaborative filtering recommendat...</td>\n",
       "      <td>explaining collaborative filtering recommendat...</td>\n",
       "      <td>the importance of providing information system...</td>\n",
       "      <td>however the first attempt towards the exploita...</td>\n",
       "      <td>more recently on different explanation goals</td>\n",
       "      <td>Related_Work</td>\n",
       "    </tr>\n",
       "    <tr>\n",
       "      <th>5</th>\n",
       "      <td>2</td>\n",
       "      <td>42695</td>\n",
       "      <td>Explaining collaborative filtering recommendat...</td>\n",
       "      <td>explaining collaborative filtering recommendat...</td>\n",
       "      <td>however the first attempt towards the exploita...</td>\n",
       "      <td>more recently on different explanation goals</td>\n",
       "      <td>these explanation goals are inspired by the wo...</td>\n",
       "      <td>Related_Work</td>\n",
       "    </tr>\n",
       "    <tr>\n",
       "      <th>6</th>\n",
       "      <td>2</td>\n",
       "      <td>42695</td>\n",
       "      <td>Explaining collaborative filtering recommendat...</td>\n",
       "      <td>explaining collaborative filtering recommendat...</td>\n",
       "      <td>indeed most of the works presented in the lite...</td>\n",
       "      <td>as an example in information about the neighbo...</td>\n",
       "      <td>in that direction in the information retrieval...</td>\n",
       "      <td>Related_Work</td>\n",
       "    </tr>\n",
       "  </tbody>\n",
       "</table>\n",
       "</div>\n",
       "      <button class=\"colab-df-convert\" onclick=\"convertToInteractive('df-50dfc611-5d05-4f72-a569-4ce69c29215f')\"\n",
       "              title=\"Convert this dataframe to an interactive table.\"\n",
       "              style=\"display:none;\">\n",
       "        \n",
       "  <svg xmlns=\"http://www.w3.org/2000/svg\" height=\"24px\"viewBox=\"0 0 24 24\"\n",
       "       width=\"24px\">\n",
       "    <path d=\"M0 0h24v24H0V0z\" fill=\"none\"/>\n",
       "    <path d=\"M18.56 5.44l.94 2.06.94-2.06 2.06-.94-2.06-.94-.94-2.06-.94 2.06-2.06.94zm-11 1L8.5 8.5l.94-2.06 2.06-.94-2.06-.94L8.5 2.5l-.94 2.06-2.06.94zm10 10l.94 2.06.94-2.06 2.06-.94-2.06-.94-.94-2.06-.94 2.06-2.06.94z\"/><path d=\"M17.41 7.96l-1.37-1.37c-.4-.4-.92-.59-1.43-.59-.52 0-1.04.2-1.43.59L10.3 9.45l-7.72 7.72c-.78.78-.78 2.05 0 2.83L4 21.41c.39.39.9.59 1.41.59.51 0 1.02-.2 1.41-.59l7.78-7.78 2.81-2.81c.8-.78.8-2.07 0-2.86zM5.41 20L4 18.59l7.72-7.72 1.47 1.35L5.41 20z\"/>\n",
       "  </svg>\n",
       "      </button>\n",
       "      \n",
       "  <style>\n",
       "    .colab-df-container {\n",
       "      display:flex;\n",
       "      flex-wrap:wrap;\n",
       "      gap: 12px;\n",
       "    }\n",
       "\n",
       "    .colab-df-convert {\n",
       "      background-color: #E8F0FE;\n",
       "      border: none;\n",
       "      border-radius: 50%;\n",
       "      cursor: pointer;\n",
       "      display: none;\n",
       "      fill: #1967D2;\n",
       "      height: 32px;\n",
       "      padding: 0 0 0 0;\n",
       "      width: 32px;\n",
       "    }\n",
       "\n",
       "    .colab-df-convert:hover {\n",
       "      background-color: #E2EBFA;\n",
       "      box-shadow: 0px 1px 2px rgba(60, 64, 67, 0.3), 0px 1px 3px 1px rgba(60, 64, 67, 0.15);\n",
       "      fill: #174EA6;\n",
       "    }\n",
       "\n",
       "    [theme=dark] .colab-df-convert {\n",
       "      background-color: #3B4455;\n",
       "      fill: #D2E3FC;\n",
       "    }\n",
       "\n",
       "    [theme=dark] .colab-df-convert:hover {\n",
       "      background-color: #434B5C;\n",
       "      box-shadow: 0px 1px 3px 1px rgba(0, 0, 0, 0.15);\n",
       "      filter: drop-shadow(0px 1px 2px rgba(0, 0, 0, 0.3));\n",
       "      fill: #FFFFFF;\n",
       "    }\n",
       "  </style>\n",
       "\n",
       "      <script>\n",
       "        const buttonEl =\n",
       "          document.querySelector('#df-50dfc611-5d05-4f72-a569-4ce69c29215f button.colab-df-convert');\n",
       "        buttonEl.style.display =\n",
       "          google.colab.kernel.accessAllowed ? 'block' : 'none';\n",
       "\n",
       "        async function convertToInteractive(key) {\n",
       "          const element = document.querySelector('#df-50dfc611-5d05-4f72-a569-4ce69c29215f');\n",
       "          const dataTable =\n",
       "            await google.colab.kernel.invokeFunction('convertToInteractive',\n",
       "                                                     [key], {});\n",
       "          if (!dataTable) return;\n",
       "\n",
       "          const docLinkHtml = 'Like what you see? Visit the ' +\n",
       "            '<a target=\"_blank\" href=https://colab.research.google.com/notebooks/data_table.ipynb>data table notebook</a>'\n",
       "            + ' to learn more about interactive tables.';\n",
       "          element.innerHTML = '';\n",
       "          dataTable['output_type'] = 'display_data';\n",
       "          await google.colab.output.renderOutput(dataTable, element);\n",
       "          const docLink = document.createElement('div');\n",
       "          docLink.innerHTML = docLinkHtml;\n",
       "          element.appendChild(docLink);\n",
       "        }\n",
       "      </script>\n",
       "    </div>\n",
       "  </div>\n",
       "  "
      ],
      "text/plain": [
       "   citing_paper_id  cited_paper_id  \\\n",
       "0                1            5835   \n",
       "3                2           12097   \n",
       "4                2           42695   \n",
       "5                2           42695   \n",
       "6                2           42695   \n",
       "\n",
       "                                      citation_title  \\\n",
       "0   Deep neural networks for youtube recommendations   \n",
       "3  The effects of transparency on trust in and ac...   \n",
       "4  Explaining collaborative filtering recommendat...   \n",
       "5  Explaining collaborative filtering recommendat...   \n",
       "6  Explaining collaborative filtering recommendat...   \n",
       "\n",
       "                             citation_filtered_title  \\\n",
       "0   deep neural networks for youtube recommendations   \n",
       "3  the effects of transparency on trust in and ac...   \n",
       "4  explaining collaborative filtering recommendat...   \n",
       "5  explaining collaborative filtering recommendat...   \n",
       "6  explaining collaborative filtering recommendat...   \n",
       "\n",
       "                            citation_sentence_before  \\\n",
       "0  though shallow models are generally easy to im...   \n",
       "3  in the system provided a tag based explanation...   \n",
       "4  the importance of providing information system...   \n",
       "5  however the first attempt towards the exploita...   \n",
       "6  indeed most of the works presented in the lite...   \n",
       "\n",
       "                             citation_sentence_cited  \\\n",
       "0  recently due to the powerful ability of featur...   \n",
       "3  another content based explanation approach is ...   \n",
       "4  however the first attempt towards the exploita...   \n",
       "5       more recently on different explanation goals   \n",
       "6  as an example in information about the neighbo...   \n",
       "\n",
       "                             citation_sentence_after  \\\n",
       "0  deep models however are biased to high order i...   \n",
       "3  the authors establi shed that explaining why a...   \n",
       "4       more recently on different explanation goals   \n",
       "5  these explanation goals are inspired by the wo...   \n",
       "6  in that direction in the information retrieval...   \n",
       "\n",
       "  citation_position (section)  \n",
       "0                Introduction  \n",
       "3                Related_Work  \n",
       "4                Related_Work  \n",
       "5                Related_Work  \n",
       "6                Related_Work  "
      ]
     },
     "execution_count": 14,
     "metadata": {},
     "output_type": "execute_result"
    }
   ],
   "source": [
    "#Drop duplicated rows\n",
    "df_selected_publication_citations.drop_duplicates(inplace=True)\n",
    "\n",
    "print(df_selected_publication_citations.shape)\n",
    "df_selected_publication_citations.head(5)"
   ]
  },
  {
   "cell_type": "markdown",
   "metadata": {
    "id": "KAvBDWjTaH0k"
   },
   "source": [
    "2.   **Non-informative Features:** \n"
   ]
  },
  {
   "cell_type": "code",
   "execution_count": 15,
   "metadata": {
    "colab": {
     "base_uri": "https://localhost:8080/",
     "height": 258
    },
    "executionInfo": {
     "elapsed": 37,
     "status": "ok",
     "timestamp": 1666936642690,
     "user": {
      "displayName": "kıymet kaya",
      "userId": "14067656308915233367"
     },
     "user_tz": -180
    },
    "id": "MQcIpds3aHeW",
    "outputId": "8db21a4c-b36d-4be0-ad9b-c7c2e324976d"
   },
   "outputs": [
    {
     "name": "stdout",
     "output_type": "stream",
     "text": [
      "(1931, 9)\n"
     ]
    },
    {
     "data": {
      "text/html": [
       "\n",
       "  <div id=\"df-19731a2d-fe08-461f-b08f-75e389f604c5\">\n",
       "    <div class=\"colab-df-container\">\n",
       "      <div>\n",
       "<style scoped>\n",
       "    .dataframe tbody tr th:only-of-type {\n",
       "        vertical-align: middle;\n",
       "    }\n",
       "\n",
       "    .dataframe tbody tr th {\n",
       "        vertical-align: top;\n",
       "    }\n",
       "\n",
       "    .dataframe thead th {\n",
       "        text-align: right;\n",
       "    }\n",
       "</style>\n",
       "<table border=\"1\" class=\"dataframe\">\n",
       "  <thead>\n",
       "    <tr style=\"text-align: right;\">\n",
       "      <th></th>\n",
       "      <th>author_id</th>\n",
       "      <th>author_orchid_id</th>\n",
       "      <th>author_fname</th>\n",
       "      <th>author_lname</th>\n",
       "      <th>author_dblp_url</th>\n",
       "      <th>author_dblp_key</th>\n",
       "      <th>author_gscholar_url</th>\n",
       "      <th>author_affiliation</th>\n",
       "      <th>author_page</th>\n",
       "    </tr>\n",
       "  </thead>\n",
       "  <tbody>\n",
       "    <tr>\n",
       "      <th>0</th>\n",
       "      <td>1</td>\n",
       "      <td></td>\n",
       "      <td>Jinkai</td>\n",
       "      <td>Yu</td>\n",
       "      <td>https://dblp.org/pid/227/0764</td>\n",
       "      <td>homepages/227/0764</td>\n",
       "      <td>https://scholar.google.com/scholar?q=Jinkai+Yu</td>\n",
       "      <td>NaN</td>\n",
       "      <td></td>\n",
       "    </tr>\n",
       "    <tr>\n",
       "      <th>1</th>\n",
       "      <td>2</td>\n",
       "      <td>0000-0002-6866-9451</td>\n",
       "      <td>Pasquale</td>\n",
       "      <td>Lops</td>\n",
       "      <td>https://dblp.org/pers/hb/l/Lops:Pasquale.html</td>\n",
       "      <td>homepages/78/5518</td>\n",
       "      <td>https://scholar.google.com/scholar?q=Pasquale+...</td>\n",
       "      <td>University of Bari \"Aldo Moro\", Italy</td>\n",
       "      <td>http://www.di.uniba.it/~swap/index.php?n=Membr...</td>\n",
       "    </tr>\n",
       "    <tr>\n",
       "      <th>2</th>\n",
       "      <td>3</td>\n",
       "      <td></td>\n",
       "      <td>A.</td>\n",
       "      <td>Yagci</td>\n",
       "      <td>https://dblp.org/pid/16/7955</td>\n",
       "      <td>homepages/16/7955</td>\n",
       "      <td>https://scholar.google.com/scholar?q=A.+Murat+...</td>\n",
       "      <td>NaN</td>\n",
       "      <td></td>\n",
       "    </tr>\n",
       "  </tbody>\n",
       "</table>\n",
       "</div>\n",
       "      <button class=\"colab-df-convert\" onclick=\"convertToInteractive('df-19731a2d-fe08-461f-b08f-75e389f604c5')\"\n",
       "              title=\"Convert this dataframe to an interactive table.\"\n",
       "              style=\"display:none;\">\n",
       "        \n",
       "  <svg xmlns=\"http://www.w3.org/2000/svg\" height=\"24px\"viewBox=\"0 0 24 24\"\n",
       "       width=\"24px\">\n",
       "    <path d=\"M0 0h24v24H0V0z\" fill=\"none\"/>\n",
       "    <path d=\"M18.56 5.44l.94 2.06.94-2.06 2.06-.94-2.06-.94-.94-2.06-.94 2.06-2.06.94zm-11 1L8.5 8.5l.94-2.06 2.06-.94-2.06-.94L8.5 2.5l-.94 2.06-2.06.94zm10 10l.94 2.06.94-2.06 2.06-.94-2.06-.94-.94-2.06-.94 2.06-2.06.94z\"/><path d=\"M17.41 7.96l-1.37-1.37c-.4-.4-.92-.59-1.43-.59-.52 0-1.04.2-1.43.59L10.3 9.45l-7.72 7.72c-.78.78-.78 2.05 0 2.83L4 21.41c.39.39.9.59 1.41.59.51 0 1.02-.2 1.41-.59l7.78-7.78 2.81-2.81c.8-.78.8-2.07 0-2.86zM5.41 20L4 18.59l7.72-7.72 1.47 1.35L5.41 20z\"/>\n",
       "  </svg>\n",
       "      </button>\n",
       "      \n",
       "  <style>\n",
       "    .colab-df-container {\n",
       "      display:flex;\n",
       "      flex-wrap:wrap;\n",
       "      gap: 12px;\n",
       "    }\n",
       "\n",
       "    .colab-df-convert {\n",
       "      background-color: #E8F0FE;\n",
       "      border: none;\n",
       "      border-radius: 50%;\n",
       "      cursor: pointer;\n",
       "      display: none;\n",
       "      fill: #1967D2;\n",
       "      height: 32px;\n",
       "      padding: 0 0 0 0;\n",
       "      width: 32px;\n",
       "    }\n",
       "\n",
       "    .colab-df-convert:hover {\n",
       "      background-color: #E2EBFA;\n",
       "      box-shadow: 0px 1px 2px rgba(60, 64, 67, 0.3), 0px 1px 3px 1px rgba(60, 64, 67, 0.15);\n",
       "      fill: #174EA6;\n",
       "    }\n",
       "\n",
       "    [theme=dark] .colab-df-convert {\n",
       "      background-color: #3B4455;\n",
       "      fill: #D2E3FC;\n",
       "    }\n",
       "\n",
       "    [theme=dark] .colab-df-convert:hover {\n",
       "      background-color: #434B5C;\n",
       "      box-shadow: 0px 1px 3px 1px rgba(0, 0, 0, 0.15);\n",
       "      filter: drop-shadow(0px 1px 2px rgba(0, 0, 0, 0.3));\n",
       "      fill: #FFFFFF;\n",
       "    }\n",
       "  </style>\n",
       "\n",
       "      <script>\n",
       "        const buttonEl =\n",
       "          document.querySelector('#df-19731a2d-fe08-461f-b08f-75e389f604c5 button.colab-df-convert');\n",
       "        buttonEl.style.display =\n",
       "          google.colab.kernel.accessAllowed ? 'block' : 'none';\n",
       "\n",
       "        async function convertToInteractive(key) {\n",
       "          const element = document.querySelector('#df-19731a2d-fe08-461f-b08f-75e389f604c5');\n",
       "          const dataTable =\n",
       "            await google.colab.kernel.invokeFunction('convertToInteractive',\n",
       "                                                     [key], {});\n",
       "          if (!dataTable) return;\n",
       "\n",
       "          const docLinkHtml = 'Like what you see? Visit the ' +\n",
       "            '<a target=\"_blank\" href=https://colab.research.google.com/notebooks/data_table.ipynb>data table notebook</a>'\n",
       "            + ' to learn more about interactive tables.';\n",
       "          element.innerHTML = '';\n",
       "          dataTable['output_type'] = 'display_data';\n",
       "          await google.colab.output.renderOutput(dataTable, element);\n",
       "          const docLink = document.createElement('div');\n",
       "          docLink.innerHTML = docLinkHtml;\n",
       "          element.appendChild(docLink);\n",
       "        }\n",
       "      </script>\n",
       "    </div>\n",
       "  </div>\n",
       "  "
      ],
      "text/plain": [
       "   author_id     author_orchid_id author_fname author_lname  \\\n",
       "0          1                            Jinkai           Yu   \n",
       "1          2  0000-0002-6866-9451     Pasquale         Lops   \n",
       "2          3                                A.        Yagci   \n",
       "\n",
       "                                 author_dblp_url     author_dblp_key  \\\n",
       "0                  https://dblp.org/pid/227/0764  homepages/227/0764   \n",
       "1  https://dblp.org/pers/hb/l/Lops:Pasquale.html   homepages/78/5518   \n",
       "2                   https://dblp.org/pid/16/7955   homepages/16/7955   \n",
       "\n",
       "                                 author_gscholar_url  \\\n",
       "0     https://scholar.google.com/scholar?q=Jinkai+Yu   \n",
       "1  https://scholar.google.com/scholar?q=Pasquale+...   \n",
       "2  https://scholar.google.com/scholar?q=A.+Murat+...   \n",
       "\n",
       "                      author_affiliation  \\\n",
       "0                                    NaN   \n",
       "1  University of Bari \"Aldo Moro\", Italy   \n",
       "2                                    NaN   \n",
       "\n",
       "                                         author_page  \n",
       "0                                                     \n",
       "1  http://www.di.uniba.it/~swap/index.php?n=Membr...  \n",
       "2                                                     "
      ]
     },
     "execution_count": 15,
     "metadata": {},
     "output_type": "execute_result"
    }
   ],
   "source": [
    "#For this dataset, information such as the name of the author and orcid_id should be dropped, as it will not help the prediction models.\n",
    "print(df_all_authors.shape)\n",
    "df_all_authors.head(3)"
   ]
  },
  {
   "cell_type": "code",
   "execution_count": 16,
   "metadata": {
    "colab": {
     "base_uri": "https://localhost:8080/",
     "height": 162
    },
    "executionInfo": {
     "elapsed": 35,
     "status": "ok",
     "timestamp": 1666936642691,
     "user": {
      "displayName": "kıymet kaya",
      "userId": "14067656308915233367"
     },
     "user_tz": -180
    },
    "id": "iZ09F7I0athv",
    "outputId": "091c299a-d2aa-42bc-b13f-81aa5715da2f"
   },
   "outputs": [
    {
     "name": "stdout",
     "output_type": "stream",
     "text": [
      "(1931, 6)\n"
     ]
    },
    {
     "data": {
      "text/html": [
       "\n",
       "  <div id=\"df-488fa91b-065e-4496-9841-547b27989696\">\n",
       "    <div class=\"colab-df-container\">\n",
       "      <div>\n",
       "<style scoped>\n",
       "    .dataframe tbody tr th:only-of-type {\n",
       "        vertical-align: middle;\n",
       "    }\n",
       "\n",
       "    .dataframe tbody tr th {\n",
       "        vertical-align: top;\n",
       "    }\n",
       "\n",
       "    .dataframe thead th {\n",
       "        text-align: right;\n",
       "    }\n",
       "</style>\n",
       "<table border=\"1\" class=\"dataframe\">\n",
       "  <thead>\n",
       "    <tr style=\"text-align: right;\">\n",
       "      <th></th>\n",
       "      <th>author_id</th>\n",
       "      <th>author_dblp_url</th>\n",
       "      <th>author_dblp_key</th>\n",
       "      <th>author_gscholar_url</th>\n",
       "      <th>author_affiliation</th>\n",
       "      <th>author_page</th>\n",
       "    </tr>\n",
       "  </thead>\n",
       "  <tbody>\n",
       "    <tr>\n",
       "      <th>0</th>\n",
       "      <td>1</td>\n",
       "      <td>https://dblp.org/pid/227/0764</td>\n",
       "      <td>homepages/227/0764</td>\n",
       "      <td>https://scholar.google.com/scholar?q=Jinkai+Yu</td>\n",
       "      <td>NaN</td>\n",
       "      <td></td>\n",
       "    </tr>\n",
       "    <tr>\n",
       "      <th>1</th>\n",
       "      <td>2</td>\n",
       "      <td>https://dblp.org/pers/hb/l/Lops:Pasquale.html</td>\n",
       "      <td>homepages/78/5518</td>\n",
       "      <td>https://scholar.google.com/scholar?q=Pasquale+...</td>\n",
       "      <td>University of Bari \"Aldo Moro\", Italy</td>\n",
       "      <td>http://www.di.uniba.it/~swap/index.php?n=Membr...</td>\n",
       "    </tr>\n",
       "    <tr>\n",
       "      <th>2</th>\n",
       "      <td>3</td>\n",
       "      <td>https://dblp.org/pid/16/7955</td>\n",
       "      <td>homepages/16/7955</td>\n",
       "      <td>https://scholar.google.com/scholar?q=A.+Murat+...</td>\n",
       "      <td>NaN</td>\n",
       "      <td></td>\n",
       "    </tr>\n",
       "  </tbody>\n",
       "</table>\n",
       "</div>\n",
       "      <button class=\"colab-df-convert\" onclick=\"convertToInteractive('df-488fa91b-065e-4496-9841-547b27989696')\"\n",
       "              title=\"Convert this dataframe to an interactive table.\"\n",
       "              style=\"display:none;\">\n",
       "        \n",
       "  <svg xmlns=\"http://www.w3.org/2000/svg\" height=\"24px\"viewBox=\"0 0 24 24\"\n",
       "       width=\"24px\">\n",
       "    <path d=\"M0 0h24v24H0V0z\" fill=\"none\"/>\n",
       "    <path d=\"M18.56 5.44l.94 2.06.94-2.06 2.06-.94-2.06-.94-.94-2.06-.94 2.06-2.06.94zm-11 1L8.5 8.5l.94-2.06 2.06-.94-2.06-.94L8.5 2.5l-.94 2.06-2.06.94zm10 10l.94 2.06.94-2.06 2.06-.94-2.06-.94-.94-2.06-.94 2.06-2.06.94z\"/><path d=\"M17.41 7.96l-1.37-1.37c-.4-.4-.92-.59-1.43-.59-.52 0-1.04.2-1.43.59L10.3 9.45l-7.72 7.72c-.78.78-.78 2.05 0 2.83L4 21.41c.39.39.9.59 1.41.59.51 0 1.02-.2 1.41-.59l7.78-7.78 2.81-2.81c.8-.78.8-2.07 0-2.86zM5.41 20L4 18.59l7.72-7.72 1.47 1.35L5.41 20z\"/>\n",
       "  </svg>\n",
       "      </button>\n",
       "      \n",
       "  <style>\n",
       "    .colab-df-container {\n",
       "      display:flex;\n",
       "      flex-wrap:wrap;\n",
       "      gap: 12px;\n",
       "    }\n",
       "\n",
       "    .colab-df-convert {\n",
       "      background-color: #E8F0FE;\n",
       "      border: none;\n",
       "      border-radius: 50%;\n",
       "      cursor: pointer;\n",
       "      display: none;\n",
       "      fill: #1967D2;\n",
       "      height: 32px;\n",
       "      padding: 0 0 0 0;\n",
       "      width: 32px;\n",
       "    }\n",
       "\n",
       "    .colab-df-convert:hover {\n",
       "      background-color: #E2EBFA;\n",
       "      box-shadow: 0px 1px 2px rgba(60, 64, 67, 0.3), 0px 1px 3px 1px rgba(60, 64, 67, 0.15);\n",
       "      fill: #174EA6;\n",
       "    }\n",
       "\n",
       "    [theme=dark] .colab-df-convert {\n",
       "      background-color: #3B4455;\n",
       "      fill: #D2E3FC;\n",
       "    }\n",
       "\n",
       "    [theme=dark] .colab-df-convert:hover {\n",
       "      background-color: #434B5C;\n",
       "      box-shadow: 0px 1px 3px 1px rgba(0, 0, 0, 0.15);\n",
       "      filter: drop-shadow(0px 1px 2px rgba(0, 0, 0, 0.3));\n",
       "      fill: #FFFFFF;\n",
       "    }\n",
       "  </style>\n",
       "\n",
       "      <script>\n",
       "        const buttonEl =\n",
       "          document.querySelector('#df-488fa91b-065e-4496-9841-547b27989696 button.colab-df-convert');\n",
       "        buttonEl.style.display =\n",
       "          google.colab.kernel.accessAllowed ? 'block' : 'none';\n",
       "\n",
       "        async function convertToInteractive(key) {\n",
       "          const element = document.querySelector('#df-488fa91b-065e-4496-9841-547b27989696');\n",
       "          const dataTable =\n",
       "            await google.colab.kernel.invokeFunction('convertToInteractive',\n",
       "                                                     [key], {});\n",
       "          if (!dataTable) return;\n",
       "\n",
       "          const docLinkHtml = 'Like what you see? Visit the ' +\n",
       "            '<a target=\"_blank\" href=https://colab.research.google.com/notebooks/data_table.ipynb>data table notebook</a>'\n",
       "            + ' to learn more about interactive tables.';\n",
       "          element.innerHTML = '';\n",
       "          dataTable['output_type'] = 'display_data';\n",
       "          await google.colab.output.renderOutput(dataTable, element);\n",
       "          const docLink = document.createElement('div');\n",
       "          docLink.innerHTML = docLinkHtml;\n",
       "          element.appendChild(docLink);\n",
       "        }\n",
       "      </script>\n",
       "    </div>\n",
       "  </div>\n",
       "  "
      ],
      "text/plain": [
       "   author_id                                author_dblp_url  \\\n",
       "0          1                  https://dblp.org/pid/227/0764   \n",
       "1          2  https://dblp.org/pers/hb/l/Lops:Pasquale.html   \n",
       "2          3                   https://dblp.org/pid/16/7955   \n",
       "\n",
       "      author_dblp_key                                author_gscholar_url  \\\n",
       "0  homepages/227/0764     https://scholar.google.com/scholar?q=Jinkai+Yu   \n",
       "1   homepages/78/5518  https://scholar.google.com/scholar?q=Pasquale+...   \n",
       "2   homepages/16/7955  https://scholar.google.com/scholar?q=A.+Murat+...   \n",
       "\n",
       "                      author_affiliation  \\\n",
       "0                                    NaN   \n",
       "1  University of Bari \"Aldo Moro\", Italy   \n",
       "2                                    NaN   \n",
       "\n",
       "                                         author_page  \n",
       "0                                                     \n",
       "1  http://www.di.uniba.it/~swap/index.php?n=Membr...  \n",
       "2                                                     "
      ]
     },
     "execution_count": 16,
     "metadata": {},
     "output_type": "execute_result"
    }
   ],
   "source": [
    "drop_list= ['author_orchid_id', 'author_fname', 'author_lname']\n",
    "df_all_authors.drop(drop_list, axis=1, inplace=True)\n",
    "\n",
    "print(df_all_authors.shape)\n",
    "df_all_authors.head(3)"
   ]
  },
  {
   "cell_type": "markdown",
   "metadata": {
    "id": "d4BezyVOcCDS"
   },
   "source": [
    "3.   **NA (Not Available) Values:**\n"
   ]
  },
  {
   "cell_type": "code",
   "execution_count": 17,
   "metadata": {
    "colab": {
     "base_uri": "https://localhost:8080/"
    },
    "executionInfo": {
     "elapsed": 5,
     "status": "ok",
     "timestamp": 1666936643824,
     "user": {
      "displayName": "kıymet kaya",
      "userId": "14067656308915233367"
     },
     "user_tz": -180
    },
    "id": "AXYJ5i_kcBkp",
    "outputId": "6a353440-5ebd-4f77-b442-218b69dbc8c2"
   },
   "outputs": [
    {
     "name": "stdout",
     "output_type": "stream",
     "text": [
      "(1931, 6)\n"
     ]
    },
    {
     "data": {
      "text/plain": [
       "author_id                 0\n",
       "author_dblp_url           0\n",
       "author_dblp_key           0\n",
       "author_gscholar_url       0\n",
       "author_affiliation     1552\n",
       "author_page               0\n",
       "dtype: int64"
      ]
     },
     "execution_count": 17,
     "metadata": {},
     "output_type": "execute_result"
    }
   ],
   "source": [
    "print(df_all_authors.shape)\n",
    "df_all_authors.isna().sum()\n",
    "\n",
    "#In 1931 samples, all values are available for all other features, while 1552 (quite a lot) are NA for 'author_affiliation'. \n",
    "#If only this data is to be used, this feature should be removed from the dataset.\n",
    "#If a new dataset is created by establishing a relationship between different datasets, it should be kept in the first stage; then NA conditions should be checked again."
   ]
  },
  {
   "cell_type": "code",
   "execution_count": 18,
   "metadata": {
    "executionInfo": {
     "elapsed": 10,
     "status": "ok",
     "timestamp": 1666936644462,
     "user": {
      "displayName": "kıymet kaya",
      "userId": "14067656308915233367"
     },
     "user_tz": -180
    },
    "id": "BevX3uXjd-1y"
   },
   "outputs": [],
   "source": [
    "#uncomment, if you want to use\n",
    "#df_all_authors.drop(['author_affiliation'], axis=1, inplace=True)"
   ]
  },
  {
   "cell_type": "markdown",
   "metadata": {
    "id": "GU4w4j35e1wD"
   },
   "source": [
    "## Handling Text Data\n",
    "\n",
    "\n",
    "\n",
    "1. **SBERT - Sentence Trasformers:** \n",
    "\n",
    " [https://huggingface.co/sentence-transformers](https://huggingface.co/sentence-transformers)\n",
    "\n",
    "\n",
    "2.   **Universal Sentence Encoder**\n",
    "\n",
    " [https://www.tensorflow.org/hub/tutorials/semantic_similarity_with_tf_hub_universal_encoder](https://www.tensorflow.org/hub/tutorials/semantic_similarity_with_tf_hub_universal_encoder)\n",
    "\n"
   ]
  },
  {
   "cell_type": "code",
   "execution_count": 19,
   "metadata": {
    "executionInfo": {
     "elapsed": 9,
     "status": "ok",
     "timestamp": 1666936644462,
     "user": {
      "displayName": "kıymet kaya",
      "userId": "14067656308915233367"
     },
     "user_tz": -180
    },
    "id": "KJyFVWQ3hR53"
   },
   "outputs": [],
   "source": [
    "df_all_publications['paper_abstract'] = df_all_publications['paper_abstract'].astype(str).map(lambda x: x.lstrip('[').rstrip(']'))\n",
    "paper_abstract = df_all_publications['paper_abstract'].values.tolist()\n",
    "\n",
    "#uncomment, if you want to have a look to abstracts of the papers\n",
    "#paper_abstract"
   ]
  },
  {
   "cell_type": "markdown",
   "metadata": {
    "id": "fwXpFLaPhsI1"
   },
   "source": [
    "--------------------------------"
   ]
  },
  {
   "cell_type": "markdown",
   "metadata": {
    "id": "accxIVY3rr9m"
   },
   "source": [
    "1. **SBERT - Sentence Trasformers:** \n",
    "* For pre-trained models, please check link below:\n",
    "[https://www.sbert.net/docs/pretrained_models.html](https://www.sbert.net/docs/pretrained_models.html)"
   ]
  },
  {
   "cell_type": "code",
   "execution_count": 20,
   "metadata": {
    "colab": {
     "base_uri": "https://localhost:8080/"
    },
    "executionInfo": {
     "elapsed": 6433,
     "status": "ok",
     "timestamp": 1666936651971,
     "user": {
      "displayName": "kıymet kaya",
      "userId": "14067656308915233367"
     },
     "user_tz": -180
    },
    "id": "8FtF3-gfhmEu",
    "outputId": "30ff8b83-a0ba-4a39-97c9-4835b9f8a2b1"
   },
   "outputs": [
    {
     "name": "stdout",
     "output_type": "stream",
     "text": [
      "Looking in indexes: https://pypi.org/simple, https://us-python.pkg.dev/colab-wheels/public/simple/\n",
      "Requirement already satisfied: sentence-transformers in /usr/local/lib/python3.7/dist-packages (2.2.2)\n",
      "Requirement already satisfied: numpy in /usr/local/lib/python3.7/dist-packages (from sentence-transformers) (1.21.6)\n",
      "Requirement already satisfied: sentencepiece in /usr/local/lib/python3.7/dist-packages (from sentence-transformers) (0.1.97)\n",
      "Requirement already satisfied: scikit-learn in /usr/local/lib/python3.7/dist-packages (from sentence-transformers) (1.0.2)\n",
      "Requirement already satisfied: tqdm in /usr/local/lib/python3.7/dist-packages (from sentence-transformers) (4.64.1)\n",
      "Requirement already satisfied: torch>=1.6.0 in /usr/local/lib/python3.7/dist-packages (from sentence-transformers) (1.12.1+cu113)\n",
      "Requirement already satisfied: scipy in /usr/local/lib/python3.7/dist-packages (from sentence-transformers) (1.7.3)\n",
      "Requirement already satisfied: nltk in /usr/local/lib/python3.7/dist-packages (from sentence-transformers) (3.7)\n",
      "Requirement already satisfied: torchvision in /usr/local/lib/python3.7/dist-packages (from sentence-transformers) (0.13.1+cu113)\n",
      "Requirement already satisfied: huggingface-hub>=0.4.0 in /usr/local/lib/python3.7/dist-packages (from sentence-transformers) (0.10.1)\n",
      "Requirement already satisfied: transformers<5.0.0,>=4.6.0 in /usr/local/lib/python3.7/dist-packages (from sentence-transformers) (4.23.1)\n",
      "Requirement already satisfied: filelock in /usr/local/lib/python3.7/dist-packages (from huggingface-hub>=0.4.0->sentence-transformers) (3.8.0)\n",
      "Requirement already satisfied: typing-extensions>=3.7.4.3 in /usr/local/lib/python3.7/dist-packages (from huggingface-hub>=0.4.0->sentence-transformers) (4.1.1)\n",
      "Requirement already satisfied: packaging>=20.9 in /usr/local/lib/python3.7/dist-packages (from huggingface-hub>=0.4.0->sentence-transformers) (21.3)\n",
      "Requirement already satisfied: requests in /usr/local/lib/python3.7/dist-packages (from huggingface-hub>=0.4.0->sentence-transformers) (2.23.0)\n",
      "Requirement already satisfied: importlib-metadata in /usr/local/lib/python3.7/dist-packages (from huggingface-hub>=0.4.0->sentence-transformers) (4.13.0)\n",
      "Requirement already satisfied: pyyaml>=5.1 in /usr/local/lib/python3.7/dist-packages (from huggingface-hub>=0.4.0->sentence-transformers) (6.0)\n",
      "Requirement already satisfied: pyparsing!=3.0.5,>=2.0.2 in /usr/local/lib/python3.7/dist-packages (from packaging>=20.9->huggingface-hub>=0.4.0->sentence-transformers) (3.0.9)\n",
      "Requirement already satisfied: regex!=2019.12.17 in /usr/local/lib/python3.7/dist-packages (from transformers<5.0.0,>=4.6.0->sentence-transformers) (2022.6.2)\n",
      "Requirement already satisfied: tokenizers!=0.11.3,<0.14,>=0.11.1 in /usr/local/lib/python3.7/dist-packages (from transformers<5.0.0,>=4.6.0->sentence-transformers) (0.13.1)\n",
      "Requirement already satisfied: zipp>=0.5 in /usr/local/lib/python3.7/dist-packages (from importlib-metadata->huggingface-hub>=0.4.0->sentence-transformers) (3.9.0)\n",
      "Requirement already satisfied: click in /usr/local/lib/python3.7/dist-packages (from nltk->sentence-transformers) (7.1.2)\n",
      "Requirement already satisfied: joblib in /usr/local/lib/python3.7/dist-packages (from nltk->sentence-transformers) (1.2.0)\n",
      "Requirement already satisfied: urllib3!=1.25.0,!=1.25.1,<1.26,>=1.21.1 in /usr/local/lib/python3.7/dist-packages (from requests->huggingface-hub>=0.4.0->sentence-transformers) (1.24.3)\n",
      "Requirement already satisfied: chardet<4,>=3.0.2 in /usr/local/lib/python3.7/dist-packages (from requests->huggingface-hub>=0.4.0->sentence-transformers) (3.0.4)\n",
      "Requirement already satisfied: certifi>=2017.4.17 in /usr/local/lib/python3.7/dist-packages (from requests->huggingface-hub>=0.4.0->sentence-transformers) (2022.9.24)\n",
      "Requirement already satisfied: idna<3,>=2.5 in /usr/local/lib/python3.7/dist-packages (from requests->huggingface-hub>=0.4.0->sentence-transformers) (2.10)\n",
      "Requirement already satisfied: threadpoolctl>=2.0.0 in /usr/local/lib/python3.7/dist-packages (from scikit-learn->sentence-transformers) (3.1.0)\n",
      "Requirement already satisfied: pillow!=8.3.*,>=5.3.0 in /usr/local/lib/python3.7/dist-packages (from torchvision->sentence-transformers) (7.1.2)\n"
     ]
    }
   ],
   "source": [
    "!pip install sentence-transformers"
   ]
  },
  {
   "cell_type": "code",
   "execution_count": 21,
   "metadata": {
    "executionInfo": {
     "elapsed": 2940,
     "status": "ok",
     "timestamp": 1666936654906,
     "user": {
      "displayName": "kıymet kaya",
      "userId": "14067656308915233367"
     },
     "user_tz": -180
    },
    "id": "14syeI1QhmG5"
   },
   "outputs": [],
   "source": [
    "from sentence_transformers import SentenceTransformer\n",
    "model = SentenceTransformer('all-MiniLM-L6-v2')\n",
    "\n",
    "\n",
    "#For other pre-trained models, please check link below:\n",
    "#https://www.sbert.net/docs/pretrained_models.html"
   ]
  },
  {
   "cell_type": "code",
   "execution_count": 22,
   "metadata": {
    "executionInfo": {
     "elapsed": 2191,
     "status": "ok",
     "timestamp": 1666936657094,
     "user": {
      "displayName": "kıymet kaya",
      "userId": "14067656308915233367"
     },
     "user_tz": -180
    },
    "id": "V2lpVqTshmJt"
   },
   "outputs": [],
   "source": [
    "sentence_embeddings = model.encode(paper_abstract[0:10])"
   ]
  },
  {
   "cell_type": "code",
   "execution_count": 23,
   "metadata": {
    "colab": {
     "base_uri": "https://localhost:8080/"
    },
    "executionInfo": {
     "elapsed": 11,
     "status": "ok",
     "timestamp": 1666936657096,
     "user": {
      "displayName": "kıymet kaya",
      "userId": "14067656308915233367"
     },
     "user_tz": -180
    },
    "id": "9L3fWtSuh6aG",
    "outputId": "933fb95b-3a9b-4ca3-a08e-ef899f81daf7"
   },
   "outputs": [
    {
     "data": {
      "text/plain": [
       "(10, 384)"
      ]
     },
     "execution_count": 23,
     "metadata": {},
     "output_type": "execute_result"
    }
   ],
   "source": [
    "#Embedding Dimension: 384\n",
    "#Sample size: 10\n",
    "sentence_embeddings.shape"
   ]
  },
  {
   "cell_type": "markdown",
   "metadata": {
    "id": "kNI-Rebrsh_I"
   },
   "source": [
    "2.   **Universal Sentence Encoder**"
   ]
  },
  {
   "cell_type": "code",
   "execution_count": 24,
   "metadata": {
    "executionInfo": {
     "elapsed": 2147,
     "status": "ok",
     "timestamp": 1666936659234,
     "user": {
      "displayName": "kıymet kaya",
      "userId": "14067656308915233367"
     },
     "user_tz": -180
    },
    "id": "wsbMFXPjF8CA"
   },
   "outputs": [],
   "source": [
    "import tensorflow_hub as hub"
   ]
  },
  {
   "cell_type": "code",
   "execution_count": 25,
   "metadata": {
    "executionInfo": {
     "elapsed": 6275,
     "status": "ok",
     "timestamp": 1666936665493,
     "user": {
      "displayName": "kıymet kaya",
      "userId": "14067656308915233367"
     },
     "user_tz": -180
    },
    "id": "-_63wZSkF8CB"
   },
   "outputs": [],
   "source": [
    "embed = hub.load(\"https://tfhub.dev/google/universal-sentence-encoder/4\")"
   ]
  },
  {
   "cell_type": "code",
   "execution_count": 26,
   "metadata": {
    "colab": {
     "base_uri": "https://localhost:8080/"
    },
    "executionInfo": {
     "elapsed": 3187,
     "status": "ok",
     "timestamp": 1666936668671,
     "user": {
      "displayName": "kıymet kaya",
      "userId": "14067656308915233367"
     },
     "user_tz": -180
    },
    "id": "IzkQ03VLF8CC",
    "outputId": "630472b9-7b12-4f0f-b762-10be208e5a09"
   },
   "outputs": [
    {
     "name": "stdout",
     "output_type": "stream",
     "text": [
      "tf.Tensor(\n",
      "[[-0.03133019 -0.06338634 -0.016075   ... -0.03242778 -0.0457574\n",
      "   0.05370456]\n",
      " [ 0.05080859 -0.01652432  0.01573779 ...  0.00976659  0.0317012\n",
      "   0.01788116]\n",
      " [-0.03133017 -0.06338633 -0.01607503 ... -0.03242779 -0.04575738\n",
      "   0.05370456]\n",
      " [-0.03133017 -0.06338633 -0.01607501 ... -0.03242779 -0.04575739\n",
      "   0.05370457]], shape=(4, 512), dtype=float32)\n"
     ]
    }
   ],
   "source": [
    "#An example\n",
    "embeddings = embed([\n",
    "    \"The quick brown fox jumps over the lazy dog.\",\n",
    "    \"I am a sentence for which I would like to get its embedding\",\n",
    "        \"The quick brown fox jumps over the lazy dog.\",\n",
    "            \"The quick brown fox jumps over the lazy dog.\"])\n",
    "\n",
    "print(embeddings)"
   ]
  },
  {
   "cell_type": "code",
   "execution_count": 27,
   "metadata": {
    "executionInfo": {
     "elapsed": 39,
     "status": "ok",
     "timestamp": 1666936668672,
     "user": {
      "displayName": "kıymet kaya",
      "userId": "14067656308915233367"
     },
     "user_tz": -180
    },
    "id": "q18FlUPBMb_s"
   },
   "outputs": [],
   "source": [
    "embeddings = embed(paper_abstract[0:10])"
   ]
  },
  {
   "cell_type": "code",
   "execution_count": 28,
   "metadata": {
    "colab": {
     "base_uri": "https://localhost:8080/"
    },
    "executionInfo": {
     "elapsed": 38,
     "status": "ok",
     "timestamp": 1666936668674,
     "user": {
      "displayName": "kıymet kaya",
      "userId": "14067656308915233367"
     },
     "user_tz": -180
    },
    "id": "rthOP7yZHNz3",
    "outputId": "157cb0f0-3340-4686-d171-536b42ded1e2"
   },
   "outputs": [
    {
     "data": {
      "text/plain": [
       "TensorShape([10, 512])"
      ]
     },
     "execution_count": 28,
     "metadata": {},
     "output_type": "execute_result"
    }
   ],
   "source": [
    "#Embedding Dimension: 512\n",
    "#Sample size: 10\n",
    "embeddings.shape"
   ]
  },
  {
   "cell_type": "markdown",
   "metadata": {
    "id": "Q715rx5ZM8zN"
   },
   "source": [
    "## Clustering of Papers by subject\n",
    "\n",
    "In this section, you are expected to find a clustering model that will place papers on similar topics in the same cluster using the contents of the papers.You may use the paper abstracts in the dataset for this. You can also obtain additional information about any paper from the shared url's. How you create the dataset is up to you. Note that you need to select features that will aid clustering by topics.\n",
    "\n",
    "An example clustering study with SBERT: https://www.sbert.net/examples/applications/clustering/README.html\n",
    "\n",
    "\n",
    "Things to do:\n",
    "\n",
    "* Create the dataset to be used in clustering by making use of the shared datasets in this folder.\n",
    "\n",
    "* Split the dataset as training data & test data (general approach is to separate it as 70% - 30%). **In all clustering methods same training - test datasets must be used.**\n",
    "\n",
    "* 4 clustering methods are given in the following cells. You need to make the necessary coding right after the cell reserved for the method. You need to train the prediction model on the training data and share the prediction results you obtained on the test data with the visualizations.\n",
    " \n",
    "  Clustering Methods: https://scikit-learn.org/stable/modules/clustering.html\n",
    "\n",
    "\n",
    "* For each clustering method, you are expected to compare the performance of 3 different text-to-vec pre-trained models. For this, you must choose 2 of the clustering performance evaluation metrics.\n",
    "\n",
    "  Pre-trained text-to-vec models: [https://www.sbert.net/docs/pretrained_models.html](https://www.sbert.net/docs/pretrained_models.html)\n",
    "\n",
    "  Clustering Performance Evaluation Metrics: [https://scikit-learn.org/stable/modules/clustering.html#clustering-performance-evaluation](https://scikit-learn.org/stable/modules/clustering.html#clustering-performance-evaluation)\n",
    "\n",
    "* To optimize the each clustering method, try at least 3 different values for a hyperparameter of this method.\n"
   ]
  },
  {
   "cell_type": "markdown",
   "metadata": {
    "id": "p888IaddGF6M"
   },
   "source": [
    "# Dataset Creation\n",
    "\n",
    "\n",
    "**Hint:** \n",
    "\n",
    "*   With 3 different pre-trained text-to-vec models, 3 different datasets are created.\n",
    "\n",
    "* Do not repeatedly create these three datasets under each clustering model. Do this at once and save it to a file. In the code cell allocated for each clustering model, first read the data you saved from the file, then complete the other necessary operations.\n",
    "\n",
    "* Consider also the runtime of pre-trained text-to-vec models and Google Colab resource constraints. With the file you created, it may not be possible to get results from the pre-trained model at once. In this case, divide the dataset into subsets, present them as separate inputs to the pre-trained text-to-vec model and combine the results.\n",
    "\n",
    "* You may complete the data creation phase with pre-trained text-to-vec models on your own computer or on a different additional hardware source. However, you need to share the created datasets via Google Drive and write the code you have executed in the relevant cell below.\n"
   ]
  },
  {
   "cell_type": "code",
   "execution_count": 29,
   "metadata": {
    "executionInfo": {
     "elapsed": 1536,
     "status": "ok",
     "timestamp": 1666936670177,
     "user": {
      "displayName": "kıymet kaya",
      "userId": "14067656308915233367"
     },
     "user_tz": -180
    },
    "id": "CeVU7X8fT_RR"
   },
   "outputs": [],
   "source": [
    "#read data from .tsv files\n",
    "df_all_authors = pd.read_csv(\"all_authors.tsv\", sep='\\t', encoding= 'ISO-8859-1')\n",
    "df_all_publications = pd.read_csv(\"all_publications.tsv\", sep='\\t')\n",
    "df_selected_author_publications = pd.read_csv(\"selected_author_publications_information.tsv\", sep='\\t')\n",
    "df_selected_publication_citations = pd.read_csv(\"selected_publication_citations_information.tsv\", sep='\\t')"
   ]
  },
  {
   "cell_type": "code",
   "execution_count": 30,
   "metadata": {
    "executionInfo": {
     "elapsed": 11,
     "status": "ok",
     "timestamp": 1666936670177,
     "user": {
      "displayName": "kıymet kaya",
      "userId": "14067656308915233367"
     },
     "user_tz": -180
    },
    "id": "hdaxLZ3NGDWs"
   },
   "outputs": [],
   "source": [
    "#Code Below\n",
    "#You can add as many code cells as you want."
   ]
  },
  {
   "cell_type": "markdown",
   "metadata": {
    "id": "IgeudAgyJUh9"
   },
   "source": [
    "##Clustering\n",
    "### K-means\n",
    " \n",
    " Compare 3 different pre-trained text-to-vec models.\n",
    "\n",
    " Use 2 performance evaluation metrics and virtualize the results.\n",
    "\n",
    " To optimize the method, try at least 3 different values for a hyperparameter of this method."
   ]
  },
  {
   "cell_type": "code",
   "execution_count": 31,
   "metadata": {
    "executionInfo": {
     "elapsed": 10,
     "status": "ok",
     "timestamp": 1666936670177,
     "user": {
      "displayName": "kıymet kaya",
      "userId": "14067656308915233367"
     },
     "user_tz": -180
    },
    "id": "rdGNqiC_KM5I"
   },
   "outputs": [],
   "source": [
    "#Code Below\n",
    "#You can add as many code cells as you want."
   ]
  },
  {
   "cell_type": "markdown",
   "metadata": {
    "id": "ZyVTkWZ8JUyX"
   },
   "source": [
    "### Spectral Clustering\n",
    " \n",
    " Compare 3 different pre-trained text-to-vec models.\n",
    "\n",
    " Use 2 performance evaluation metrics and virtualize the results.\n",
    "\n",
    " To optimize the method, try at least 3 different values for a hyperparameter of this method."
   ]
  },
  {
   "cell_type": "code",
   "execution_count": 32,
   "metadata": {
    "executionInfo": {
     "elapsed": 11,
     "status": "ok",
     "timestamp": 1666936670178,
     "user": {
      "displayName": "kıymet kaya",
      "userId": "14067656308915233367"
     },
     "user_tz": -180
    },
    "id": "9VgTyF-_KNSx"
   },
   "outputs": [],
   "source": [
    "#Code Below\n",
    "#You can add as many code cells as you want."
   ]
  },
  {
   "cell_type": "markdown",
   "metadata": {
    "id": "AGEJjsUhJ0T6"
   },
   "source": [
    "### DBSCAN\n",
    " \n",
    " Compare 3 different pre-trained text-to-vec models.\n",
    "\n",
    " Use 2 performance evaluation metrics and virtualize the results.\n",
    "\n",
    " To optimize the method, try at least 3 different values for a hyperparameter of this method."
   ]
  },
  {
   "cell_type": "code",
   "execution_count": 33,
   "metadata": {
    "executionInfo": {
     "elapsed": 11,
     "status": "ok",
     "timestamp": 1666936670178,
     "user": {
      "displayName": "kıymet kaya",
      "userId": "14067656308915233367"
     },
     "user_tz": -180
    },
    "id": "xAfb9zckKNrY"
   },
   "outputs": [],
   "source": [
    "#Code Below\n",
    "#You can add as many code cells as you want."
   ]
  },
  {
   "cell_type": "markdown",
   "metadata": {
    "id": "IzkwEsTNJ0WQ"
   },
   "source": [
    "### Gaussian Mixture\n",
    " \n",
    " Compare 3 different pre-trained text-to-vec models.\n",
    "\n",
    " Use 2 performance evaluation metrics and virtualize the results.\n",
    "\n",
    " To optimize the method, try at least 3 different values for a hyperparameter of this method."
   ]
  },
  {
   "cell_type": "code",
   "execution_count": 34,
   "metadata": {
    "executionInfo": {
     "elapsed": 10,
     "status": "ok",
     "timestamp": 1666936670178,
     "user": {
      "displayName": "kıymet kaya",
      "userId": "14067656308915233367"
     },
     "user_tz": -180
    },
    "id": "hfZ4XF-5KOLy"
   },
   "outputs": [],
   "source": [
    "#Code Below\n",
    "#You can add as many code cells as you want."
   ]
  },
  {
   "cell_type": "markdown",
   "metadata": {
    "id": "q059OoxBJ0Yh"
   },
   "source": [
    "### The most accurate clustering model you recommend\n",
    "\n",
    "Present the operations for the selected clustering method and the text-to-vec pre-trained models pair again below."
   ]
  },
  {
   "cell_type": "code",
   "execution_count": 35,
   "metadata": {
    "executionInfo": {
     "elapsed": 11,
     "status": "ok",
     "timestamp": 1666936670179,
     "user": {
      "displayName": "kıymet kaya",
      "userId": "14067656308915233367"
     },
     "user_tz": -180
    },
    "id": "qiXzeXnKK1Ez"
   },
   "outputs": [],
   "source": [
    "#Code Below\n",
    "#You can add as many code cells as you want."
   ]
  },
  {
   "cell_type": "markdown",
   "metadata": {
    "id": "IjOKG7whqbB_"
   },
   "source": [
    "## Clustering Analysis\n",
    "\n",
    "**Only for the most accurate clustering model you recommend**,\n",
    "\n",
    "1.   How many clusters did the model you propose create?\n",
    "2.   What is the number of papers in each cluster?\n",
    "3.   What is the unique number of authors in each cluster?\n",
    "4.   What are the top 3 most frequently used words (the words that describe the cluster) in each cluster?\n",
    "        \n",
    "        Ex: https://www.sbert.net/examples/applications/clustering/README.html\n"
   ]
  },
  {
   "cell_type": "code",
   "execution_count": 36,
   "metadata": {
    "executionInfo": {
     "elapsed": 11,
     "status": "ok",
     "timestamp": 1666936670179,
     "user": {
      "displayName": "kıymet kaya",
      "userId": "14067656308915233367"
     },
     "user_tz": -180
    },
    "id": "kN3zSOsTqaRS"
   },
   "outputs": [],
   "source": [
    "#Code Below\n",
    "#You can add as many code cells as you want."
   ]
  },
  {
   "cell_type": "markdown",
   "metadata": {
    "id": "kKtd2fHdLFYv"
   },
   "source": [
    "## Clustering of Authors\n",
    "\n",
    "Observe the method you recommended in a different area. Cluster authors by research area.\n",
    "How you create the dataset is up to you. Note that you need to select features that will aid clustering by research area."
   ]
  },
  {
   "cell_type": "code",
   "execution_count": 37,
   "metadata": {
    "executionInfo": {
     "elapsed": 744,
     "status": "ok",
     "timestamp": 1666936684700,
     "user": {
      "displayName": "kıymet kaya",
      "userId": "14067656308915233367"
     },
     "user_tz": -180
    },
    "id": "MfTr5gV6gza3"
   },
   "outputs": [],
   "source": [
    "#Code Below\n",
    "#You can add as many code cells as you want."
   ]
  },
  {
   "cell_type": "markdown",
   "metadata": {
    "id": "i0URHjQlg81d"
   },
   "source": [
    "#Students who want to get extra points can also do additional work on the following research areas. This part is not mandatory."
   ]
  },
  {
   "cell_type": "markdown",
   "metadata": {
    "id": "GYDrtkh3tHUd"
   },
   "source": [
    "## Semantic Search\n",
    " Selecting and presenting the papers closest to the entered text.\n",
    "\n",
    "\n",
    "*   https://www.sbert.net/examples/applications/semantic-search/README.html\n",
    "*   https://huggingface.co/course/chapter5/6?fw=pt\n",
    "\n",
    "\n",
    "\n"
   ]
  },
  {
   "cell_type": "code",
   "execution_count": 38,
   "metadata": {
    "executionInfo": {
     "elapsed": 3,
     "status": "ok",
     "timestamp": 1666936687208,
     "user": {
      "displayName": "kıymet kaya",
      "userId": "14067656308915233367"
     },
     "user_tz": -180
    },
    "id": "c3zQxFUcjTc-"
   },
   "outputs": [],
   "source": [
    "#This part is not mandatory\n",
    "#Code Below\n",
    "#You can add as many code cells as you want."
   ]
  },
  {
   "cell_type": "markdown",
   "metadata": {
    "id": "zl6YRRRL2v7t"
   },
   "source": [
    "## Academic Ranking of Authors\n"
   ]
  },
  {
   "cell_type": "code",
   "execution_count": 39,
   "metadata": {
    "executionInfo": {
     "elapsed": 6,
     "status": "ok",
     "timestamp": 1666936688277,
     "user": {
      "displayName": "kıymet kaya",
      "userId": "14067656308915233367"
     },
     "user_tz": -180
    },
    "id": "Qa7WtVr_hXqV"
   },
   "outputs": [],
   "source": [
    "#This part is not mandatory\n",
    "#Code Below\n",
    "#You can add as many code cells as you want."
   ]
  },
  {
   "cell_type": "code",
   "execution_count": null,
   "metadata": {
    "id": "9_VvSR2ZjUbc"
   },
   "outputs": [],
   "source": []
  }
 ],
 "metadata": {
  "accelerator": "GPU",
  "colab": {
   "collapsed_sections": [],
   "provenance": []
  },
  "kernelspec": {
   "display_name": "Python 3 (ipykernel)",
   "language": "python",
   "name": "python3"
  },
  "language_info": {
   "codemirror_mode": {
    "name": "ipython",
    "version": 3
   },
   "file_extension": ".py",
   "mimetype": "text/x-python",
   "name": "python",
   "nbconvert_exporter": "python",
   "pygments_lexer": "ipython3",
   "version": "3.9.10"
  }
 },
 "nbformat": 4,
 "nbformat_minor": 1
}
